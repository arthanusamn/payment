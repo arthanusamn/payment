{
  "nbformat": 4,
  "nbformat_minor": 5,
  "metadata": {
    "kernelspec": {
      "display_name": "Python 3",
      "language": "python",
      "name": "python3"
    },
    "language_info": {
      "codemirror_mode": {
        "name": "ipython",
        "version": 3
      },
      "file_extension": ".py",
      "mimetype": "text/x-python",
      "name": "python",
      "nbconvert_exporter": "python",
      "pygments_lexer": "ipython3",
      "version": "3.8.8"
    },
    "colab": {
      "name": "WB_JHan_1003.ipynb",
      "provenance": [],
      "include_colab_link": true
    }
  },
  "cells": [
    {
      "cell_type": "markdown",
      "metadata": {
        "id": "view-in-github",
        "colab_type": "text"
      },
      "source": [
        "<a href=\"https://colab.research.google.com/github/arthanusamn/payment/blob/main/WB_JHan_1003.ipynb\" target=\"_parent\"><img src=\"https://colab.research.google.com/assets/colab-badge.svg\" alt=\"Open In Colab\"/></a>"
      ]
    },
    {
      "cell_type": "markdown",
      "metadata": {
        "id": "d927a9c1"
      },
      "source": [
        "<h1 align=\"center\">WB DS Take Home Project - Customer Churn Prediction</h1> \n",
        "\n",
        "<h3 align=\"center\">Jixiong Han</h3> \n",
        "\n",
        "<h3 align=\"center\">Oct 02, 2021</h3> \n",
        "\n"
      ],
      "id": "d927a9c1"
    },
    {
      "cell_type": "markdown",
      "metadata": {
        "id": "632bf889"
      },
      "source": [
        "# Contents\n",
        "\n",
        "## 1. Introduction\n",
        "### &nbsp;&nbsp;&nbsp;&nbsp;&nbsp;&nbsp;1.1 Dataset\n",
        "### &nbsp;&nbsp;&nbsp;&nbsp;&nbsp;&nbsp;1.2 Objectives\n",
        "## 2. Data Exploration and Processing\n",
        "### &nbsp;&nbsp;&nbsp;&nbsp;&nbsp;&nbsp;2.1 Import Packages and Data\n",
        "### &nbsp;&nbsp;&nbsp;&nbsp;&nbsp;&nbsp;2.2 Data Exploration\n",
        "### &nbsp;&nbsp;&nbsp;&nbsp;&nbsp;&nbsp;2.3 Data Pre-Processing\n",
        "## 3. RFM Apporach\n",
        "## 4. Machine Learning Apporach\n",
        "### &nbsp;&nbsp;&nbsp;&nbsp;&nbsp;&nbsp;4.1 Define Churn\n",
        "### &nbsp;&nbsp;&nbsp;&nbsp;&nbsp;&nbsp;4.2 Feature Engineering\n",
        "### &nbsp;&nbsp;&nbsp;&nbsp;&nbsp;&nbsp;4.3 Data Visulization\n",
        "### &nbsp;&nbsp;&nbsp;&nbsp;&nbsp;&nbsp;4.4 Handle Imbalanced Data\n",
        "### &nbsp;&nbsp;&nbsp;&nbsp;&nbsp;&nbsp;4.5 Machine Learning Models\n",
        "### &nbsp;&nbsp;&nbsp;&nbsp;&nbsp;&nbsp;4.6 Feature Importance\n",
        "### &nbsp;&nbsp;&nbsp;&nbsp;&nbsp;&nbsp;4.7 ROC Curve\n",
        "## 5. Conclusions\n",
        "## 6. References\n",
        "\n",
        "\n",
        "\n",
        "\n"
      ],
      "id": "632bf889"
    },
    {
      "cell_type": "markdown",
      "metadata": {
        "id": "ee840893"
      },
      "source": [
        "   "
      ],
      "id": "ee840893"
    },
    {
      "cell_type": "markdown",
      "metadata": {
        "id": "3c9ab915"
      },
      "source": [
        "   "
      ],
      "id": "3c9ab915"
    },
    {
      "cell_type": "markdown",
      "metadata": {
        "id": "6b95974e"
      },
      "source": [
        "## 1. Introduction\n",
        "\n"
      ],
      "id": "6b95974e"
    },
    {
      "cell_type": "markdown",
      "metadata": {
        "id": "e4a39ea3"
      },
      "source": [
        "### 1.1 Datasets"
      ],
      "id": "e4a39ea3"
    },
    {
      "cell_type": "markdown",
      "metadata": {
        "id": "9bb31cbd"
      },
      "source": [
        "<font size=\"4\">\n",
        "   \n",
        "In this report I present findings from a customer payment dataset which has over 5000 merchants's transactions records over a span of three years. This dataset only has three columns. \n",
        "\n",
        "merchant: customer id, no real meaning\n",
        "    \n",
        "time: payment time stamp\n",
        "    \n",
        "amount_usd_in_cents: total amount of charge in one transaction</font>\n"
      ],
      "id": "9bb31cbd"
    },
    {
      "cell_type": "markdown",
      "metadata": {
        "id": "b0e03db3"
      },
      "source": [
        "### 1.2 Objectives"
      ],
      "id": "b0e03db3"
    },
    {
      "cell_type": "markdown",
      "metadata": {
        "id": "4eec1643"
      },
      "source": [
        "<font size=\"4\">\n",
        "Several things we want to understand: <br>\n",
        "       \n",
        "1) how to segment the merchants in the transactions data. \n",
        "    \n",
        "2) how to predict which merchant might become inactive soon (churn).</font>"
      ],
      "id": "4eec1643"
    },
    {
      "cell_type": "markdown",
      "metadata": {
        "id": "f2988fb6"
      },
      "source": [
        "   "
      ],
      "id": "f2988fb6"
    },
    {
      "cell_type": "markdown",
      "metadata": {
        "id": "a2d38acb"
      },
      "source": [
        "    "
      ],
      "id": "a2d38acb"
    },
    {
      "cell_type": "markdown",
      "metadata": {
        "id": "94e398ae"
      },
      "source": [
        "## 2. Data Exploration"
      ],
      "id": "94e398ae"
    },
    {
      "cell_type": "markdown",
      "metadata": {
        "id": "012df349"
      },
      "source": [
        "### 2.1 Import Packages and Read Data"
      ],
      "id": "012df349"
    },
    {
      "cell_type": "code",
      "metadata": {
        "colab": {
          "base_uri": "https://localhost:8080/"
        },
        "id": "JZwjbRaDxvBV",
        "outputId": "49dfb91a-5bfb-487c-ec6d-0a80818851b2"
      },
      "source": [
        "from google.colab import drive\n",
        "drive.mount('/content/drive/')"
      ],
      "id": "JZwjbRaDxvBV",
      "execution_count": 19,
      "outputs": [
        {
          "output_type": "stream",
          "name": "stdout",
          "text": [
            "Drive already mounted at /content/drive/; to attempt to forcibly remount, call drive.mount(\"/content/drive/\", force_remount=True).\n"
          ]
        }
      ]
    },
    {
      "cell_type": "code",
      "metadata": {
        "colab": {
          "base_uri": "https://localhost:8080/"
        },
        "id": "WZSZDN_px3qL",
        "outputId": "82201615-d52c-4ca0-d1f7-ae16ba1a74f6"
      },
      "source": [
        "%cd /content/drive/My Drive/Colab Notebooks/"
      ],
      "id": "WZSZDN_px3qL",
      "execution_count": 20,
      "outputs": [
        {
          "output_type": "stream",
          "name": "stdout",
          "text": [
            "/content/drive/My Drive/Colab Notebooks\n"
          ]
        }
      ]
    },
    {
      "cell_type": "code",
      "metadata": {
        "id": "bd5916a0"
      },
      "source": [
        "# import basics packages. ML packages will be imported in the later sections\n",
        "import numpy as np\n",
        "import pandas as pd\n",
        "import matplotlib.pyplot as plt\n",
        "import seaborn as sns\n",
        "import squarify\n",
        "from datetime import datetime\n",
        "from datetime import timedelta\n",
        "import warnings\n",
        "warnings.filterwarnings('ignore')\n",
        "\n",
        "# read csv\n",
        "pay = pd.read_csv(\"payments_data.csv\", parse_dates= ['time'])"
      ],
      "id": "bd5916a0",
      "execution_count": 21,
      "outputs": []
    },
    {
      "cell_type": "code",
      "metadata": {
        "colab": {
          "base_uri": "https://localhost:8080/"
        },
        "id": "aS586IwWyPfv",
        "outputId": "a170f540-f75f-46af-b9a3-2394d2c54f06"
      },
      "source": [
        "pip install wandb\n"
      ],
      "id": "aS586IwWyPfv",
      "execution_count": 22,
      "outputs": [
        {
          "output_type": "stream",
          "name": "stdout",
          "text": [
            "Requirement already satisfied: wandb in /usr/local/lib/python3.7/dist-packages (0.12.3)\n",
            "Requirement already satisfied: six>=1.13.0 in /usr/local/lib/python3.7/dist-packages (from wandb) (1.15.0)\n",
            "Requirement already satisfied: pathtools in /usr/local/lib/python3.7/dist-packages (from wandb) (0.1.2)\n",
            "Requirement already satisfied: Click!=8.0.0,>=7.0 in /usr/local/lib/python3.7/dist-packages (from wandb) (7.1.2)\n",
            "Requirement already satisfied: requests<3,>=2.0.0 in /usr/local/lib/python3.7/dist-packages (from wandb) (2.23.0)\n",
            "Requirement already satisfied: PyYAML in /usr/local/lib/python3.7/dist-packages (from wandb) (3.13)\n",
            "Requirement already satisfied: psutil>=5.0.0 in /usr/local/lib/python3.7/dist-packages (from wandb) (5.4.8)\n",
            "Requirement already satisfied: yaspin>=1.0.0 in /usr/local/lib/python3.7/dist-packages (from wandb) (2.1.0)\n",
            "Requirement already satisfied: docker-pycreds>=0.4.0 in /usr/local/lib/python3.7/dist-packages (from wandb) (0.4.0)\n",
            "Requirement already satisfied: python-dateutil>=2.6.1 in /usr/local/lib/python3.7/dist-packages (from wandb) (2.8.2)\n",
            "Requirement already satisfied: GitPython>=1.0.0 in /usr/local/lib/python3.7/dist-packages (from wandb) (3.1.24)\n",
            "Requirement already satisfied: configparser>=3.8.1 in /usr/local/lib/python3.7/dist-packages (from wandb) (5.0.2)\n",
            "Requirement already satisfied: promise<3,>=2.0 in /usr/local/lib/python3.7/dist-packages (from wandb) (2.3)\n",
            "Requirement already satisfied: protobuf>=3.12.0 in /usr/local/lib/python3.7/dist-packages (from wandb) (3.17.3)\n",
            "Requirement already satisfied: subprocess32>=3.5.3 in /usr/local/lib/python3.7/dist-packages (from wandb) (3.5.4)\n",
            "Requirement already satisfied: shortuuid>=0.5.0 in /usr/local/lib/python3.7/dist-packages (from wandb) (1.0.1)\n",
            "Requirement already satisfied: sentry-sdk>=1.0.0 in /usr/local/lib/python3.7/dist-packages (from wandb) (1.4.3)\n",
            "Requirement already satisfied: gitdb<5,>=4.0.1 in /usr/local/lib/python3.7/dist-packages (from GitPython>=1.0.0->wandb) (4.0.7)\n",
            "Requirement already satisfied: typing-extensions>=3.7.4.3 in /usr/local/lib/python3.7/dist-packages (from GitPython>=1.0.0->wandb) (3.7.4.3)\n",
            "Requirement already satisfied: smmap<5,>=3.0.1 in /usr/local/lib/python3.7/dist-packages (from gitdb<5,>=4.0.1->GitPython>=1.0.0->wandb) (4.0.0)\n",
            "Requirement already satisfied: chardet<4,>=3.0.2 in /usr/local/lib/python3.7/dist-packages (from requests<3,>=2.0.0->wandb) (3.0.4)\n",
            "Requirement already satisfied: idna<3,>=2.5 in /usr/local/lib/python3.7/dist-packages (from requests<3,>=2.0.0->wandb) (2.10)\n",
            "Requirement already satisfied: urllib3!=1.25.0,!=1.25.1,<1.26,>=1.21.1 in /usr/local/lib/python3.7/dist-packages (from requests<3,>=2.0.0->wandb) (1.24.3)\n",
            "Requirement already satisfied: certifi>=2017.4.17 in /usr/local/lib/python3.7/dist-packages (from requests<3,>=2.0.0->wandb) (2021.5.30)\n",
            "Requirement already satisfied: termcolor<2.0.0,>=1.1.0 in /usr/local/lib/python3.7/dist-packages (from yaspin>=1.0.0->wandb) (1.1.0)\n"
          ]
        }
      ]
    },
    {
      "cell_type": "code",
      "metadata": {
        "id": "HPQ7Idn7ykO7"
      },
      "source": [
        "import wandb"
      ],
      "id": "HPQ7Idn7ykO7",
      "execution_count": 23,
      "outputs": []
    },
    {
      "cell_type": "code",
      "metadata": {
        "colab": {
          "base_uri": "https://localhost:8080/"
        },
        "id": "k_YZ4iXpyqLU",
        "outputId": "906f7131-7154-4c4a-cd5e-c3bd77948218"
      },
      "source": [
        "wandb.login()"
      ],
      "id": "k_YZ4iXpyqLU",
      "execution_count": 24,
      "outputs": [
        {
          "output_type": "stream",
          "name": "stderr",
          "text": [
            "\u001b[34m\u001b[1mwandb\u001b[0m: Currently logged in as: \u001b[33mhanjixiong\u001b[0m (use `wandb login --relogin` to force relogin)\n"
          ]
        },
        {
          "output_type": "execute_result",
          "data": {
            "text/plain": [
              "True"
            ]
          },
          "metadata": {},
          "execution_count": 24
        }
      ]
    },
    {
      "cell_type": "markdown",
      "metadata": {
        "id": "33bf6040"
      },
      "source": [
        "### 2.2 Data Exploration"
      ],
      "id": "33bf6040"
    },
    {
      "cell_type": "code",
      "metadata": {
        "colab": {
          "base_uri": "https://localhost:8080/",
          "height": 205
        },
        "id": "8f4ce87b",
        "outputId": "cf38ed8d-702f-4215-d214-e0af970e8ffb"
      },
      "source": [
        "# quick look\n",
        "pay.head()"
      ],
      "id": "8f4ce87b",
      "execution_count": 25,
      "outputs": [
        {
          "output_type": "execute_result",
          "data": {
            "text/html": [
              "<div>\n",
              "<style scoped>\n",
              "    .dataframe tbody tr th:only-of-type {\n",
              "        vertical-align: middle;\n",
              "    }\n",
              "\n",
              "    .dataframe tbody tr th {\n",
              "        vertical-align: top;\n",
              "    }\n",
              "\n",
              "    .dataframe thead th {\n",
              "        text-align: right;\n",
              "    }\n",
              "</style>\n",
              "<table border=\"1\" class=\"dataframe\">\n",
              "  <thead>\n",
              "    <tr style=\"text-align: right;\">\n",
              "      <th></th>\n",
              "      <th>merchant</th>\n",
              "      <th>time</th>\n",
              "      <th>amount_usd_in_cents</th>\n",
              "    </tr>\n",
              "  </thead>\n",
              "  <tbody>\n",
              "    <tr>\n",
              "      <th>0</th>\n",
              "      <td>1c8b539073</td>\n",
              "      <td>2033-03-10 18:46:49</td>\n",
              "      <td>715</td>\n",
              "    </tr>\n",
              "    <tr>\n",
              "      <th>1</th>\n",
              "      <td>4647d230cc</td>\n",
              "      <td>2034-04-29 02:19:37</td>\n",
              "      <td>8010</td>\n",
              "    </tr>\n",
              "    <tr>\n",
              "      <th>2</th>\n",
              "      <td>4f65280858</td>\n",
              "      <td>2034-03-17 04:03:32</td>\n",
              "      <td>11731</td>\n",
              "    </tr>\n",
              "    <tr>\n",
              "      <th>3</th>\n",
              "      <td>4a98a5cdc1</td>\n",
              "      <td>2033-02-21 13:00:11</td>\n",
              "      <td>3486</td>\n",
              "    </tr>\n",
              "    <tr>\n",
              "      <th>4</th>\n",
              "      <td>06fe79e266</td>\n",
              "      <td>2034-12-01 16:56:37</td>\n",
              "      <td>2314</td>\n",
              "    </tr>\n",
              "  </tbody>\n",
              "</table>\n",
              "</div>"
            ],
            "text/plain": [
              "     merchant                time  amount_usd_in_cents\n",
              "0  1c8b539073 2033-03-10 18:46:49                  715\n",
              "1  4647d230cc 2034-04-29 02:19:37                 8010\n",
              "2  4f65280858 2034-03-17 04:03:32                11731\n",
              "3  4a98a5cdc1 2033-02-21 13:00:11                 3486\n",
              "4  06fe79e266 2034-12-01 16:56:37                 2314"
            ]
          },
          "metadata": {},
          "execution_count": 25
        }
      ]
    },
    {
      "cell_type": "code",
      "metadata": {
        "colab": {
          "base_uri": "https://localhost:8080/"
        },
        "id": "7ec06f56",
        "outputId": "b784a919-764b-4771-92e1-eb0902e3d1bb"
      },
      "source": [
        "# size and dim of the data\n",
        "pay.shape"
      ],
      "id": "7ec06f56",
      "execution_count": 26,
      "outputs": [
        {
          "output_type": "execute_result",
          "data": {
            "text/plain": [
              "(544831, 3)"
            ]
          },
          "metadata": {},
          "execution_count": 26
        }
      ]
    },
    {
      "cell_type": "code",
      "metadata": {
        "colab": {
          "base_uri": "https://localhost:8080/"
        },
        "id": "44174f5a",
        "outputId": "6c0d1c21-07d1-429e-9f6f-eab9488fcd06"
      },
      "source": [
        "# info is very handy for overview\n",
        "pay.info()"
      ],
      "id": "44174f5a",
      "execution_count": 27,
      "outputs": [
        {
          "output_type": "stream",
          "name": "stdout",
          "text": [
            "<class 'pandas.core.frame.DataFrame'>\n",
            "RangeIndex: 544831 entries, 0 to 544830\n",
            "Data columns (total 3 columns):\n",
            " #   Column               Non-Null Count   Dtype         \n",
            "---  ------               --------------   -----         \n",
            " 0   merchant             544831 non-null  object        \n",
            " 1   time                 544831 non-null  datetime64[ns]\n",
            " 2   amount_usd_in_cents  544831 non-null  int64         \n",
            "dtypes: datetime64[ns](1), int64(1), object(1)\n",
            "memory usage: 12.5+ MB\n"
          ]
        }
      ]
    },
    {
      "cell_type": "code",
      "metadata": {
        "colab": {
          "base_uri": "https://localhost:8080/"
        },
        "id": "d8890f5b",
        "outputId": "4f751393-d519-4ee6-fcf8-95424d44d052"
      },
      "source": [
        "# double check on nulls\n",
        "pay.isna().any()"
      ],
      "id": "d8890f5b",
      "execution_count": 28,
      "outputs": [
        {
          "output_type": "execute_result",
          "data": {
            "text/plain": [
              "merchant               False\n",
              "time                   False\n",
              "amount_usd_in_cents    False\n",
              "dtype: bool"
            ]
          },
          "metadata": {},
          "execution_count": 28
        }
      ]
    },
    {
      "cell_type": "code",
      "metadata": {
        "colab": {
          "base_uri": "https://localhost:8080/"
        },
        "id": "a7e2aad9",
        "outputId": "71cb9b15-3f0e-4a5c-ffd0-844319ece308"
      },
      "source": [
        "# how many unique customers\n",
        "pay[\"merchant\"].nunique()"
      ],
      "id": "a7e2aad9",
      "execution_count": 29,
      "outputs": [
        {
          "output_type": "execute_result",
          "data": {
            "text/plain": [
              "5000"
            ]
          },
          "metadata": {},
          "execution_count": 29
        }
      ]
    },
    {
      "cell_type": "code",
      "metadata": {
        "colab": {
          "base_uri": "https://localhost:8080/",
          "height": 411
        },
        "id": "69dbc42e",
        "outputId": "4203059b-53e5-453f-cc1a-6f47e341adf5"
      },
      "source": [
        "# quick visulization. Looks like businsses is on track. Sale is increasing over the time.\n",
        "plt.rc('font', size=12)\n",
        "fig, ax = plt.subplots(figsize=(10, 6))\n",
        "\n",
        "# scatter plot\n",
        "ax.scatter(pay.time, pay.amount_usd_in_cents, color='tab:orange', label='merchants')\n",
        "\n",
        "# same as above\n",
        "ax.set_xlabel('time')\n",
        "ax.set_ylabel('sale')\n",
        "ax.set_title('sale by time')\n",
        "ax.grid(True)\n",
        "ax.legend(loc='upper left');"
      ],
      "id": "69dbc42e",
      "execution_count": 30,
      "outputs": [
        {
          "output_type": "display_data",
          "data": {
            "image/png": "[encoded data removed]",
            "text/plain": [
              "<Figure size 720x432 with 1 Axes>"
            ]
          },
          "metadata": {
            "needs_background": "light"
          }
        }
      ]
    },
    {
      "cell_type": "markdown",
      "metadata": {
        "id": "fc39bf57"
      },
      "source": [
        "### 2.3 Data Pre-Processing "
      ],
      "id": "fc39bf57"
    },
    {
      "cell_type": "code",
      "metadata": {
        "colab": {
          "base_uri": "https://localhost:8080/",
          "height": 0
        },
        "id": "f92098f7",
        "outputId": "b4189c2c-8407-426e-ce70-c07ddf45a2a1"
      },
      "source": [
        "# parse the timestamp\n",
        "dt_format_str = '%Y-%m-%d %H:%M:%S'\n",
        "pd.to_datetime(\n",
        "            pay.time, \n",
        "            format=dt_format_str, errors='coerce'\n",
        "        )\n",
        "\n",
        "# add year, quarter, month, week and day\n",
        "pay['year'] = pay['time'].dt.year\n",
        "pay['quarter'] = pay['time'].dt.quarter\n",
        "pay['month'] = pay['time'].dt.month\n",
        "pay['week'] = pay['time'].dt.week\n",
        "pay['day'] = pay['time'].dt.day\n",
        "\n",
        "# check\n",
        "pay.head()"
      ],
      "id": "f92098f7",
      "execution_count": 31,
      "outputs": [
        {
          "output_type": "execute_result",
          "data": {
            "text/html": [
              "<div>\n",
              "<style scoped>\n",
              "    .dataframe tbody tr th:only-of-type {\n",
              "        vertical-align: middle;\n",
              "    }\n",
              "\n",
              "    .dataframe tbody tr th {\n",
              "        vertical-align: top;\n",
              "    }\n",
              "\n",
              "    .dataframe thead th {\n",
              "        text-align: right;\n",
              "    }\n",
              "</style>\n",
              "<table border=\"1\" class=\"dataframe\">\n",
              "  <thead>\n",
              "    <tr style=\"text-align: right;\">\n",
              "      <th></th>\n",
              "      <th>merchant</th>\n",
              "      <th>time</th>\n",
              "      <th>amount_usd_in_cents</th>\n",
              "      <th>year</th>\n",
              "      <th>quarter</th>\n",
              "      <th>month</th>\n",
              "      <th>week</th>\n",
              "      <th>day</th>\n",
              "    </tr>\n",
              "  </thead>\n",
              "  <tbody>\n",
              "    <tr>\n",
              "      <th>0</th>\n",
              "      <td>1c8b539073</td>\n",
              "      <td>2033-03-10 18:46:49</td>\n",
              "      <td>715</td>\n",
              "      <td>2033</td>\n",
              "      <td>1</td>\n",
              "      <td>3</td>\n",
              "      <td>10</td>\n",
              "      <td>10</td>\n",
              "    </tr>\n",
              "    <tr>\n",
              "      <th>1</th>\n",
              "      <td>4647d230cc</td>\n",
              "      <td>2034-04-29 02:19:37</td>\n",
              "      <td>8010</td>\n",
              "      <td>2034</td>\n",
              "      <td>2</td>\n",
              "      <td>4</td>\n",
              "      <td>17</td>\n",
              "      <td>29</td>\n",
              "    </tr>\n",
              "    <tr>\n",
              "      <th>2</th>\n",
              "      <td>4f65280858</td>\n",
              "      <td>2034-03-17 04:03:32</td>\n",
              "      <td>11731</td>\n",
              "      <td>2034</td>\n",
              "      <td>1</td>\n",
              "      <td>3</td>\n",
              "      <td>11</td>\n",
              "      <td>17</td>\n",
              "    </tr>\n",
              "    <tr>\n",
              "      <th>3</th>\n",
              "      <td>4a98a5cdc1</td>\n",
              "      <td>2033-02-21 13:00:11</td>\n",
              "      <td>3486</td>\n",
              "      <td>2033</td>\n",
              "      <td>1</td>\n",
              "      <td>2</td>\n",
              "      <td>8</td>\n",
              "      <td>21</td>\n",
              "    </tr>\n",
              "    <tr>\n",
              "      <th>4</th>\n",
              "      <td>06fe79e266</td>\n",
              "      <td>2034-12-01 16:56:37</td>\n",
              "      <td>2314</td>\n",
              "      <td>2034</td>\n",
              "      <td>4</td>\n",
              "      <td>12</td>\n",
              "      <td>48</td>\n",
              "      <td>1</td>\n",
              "    </tr>\n",
              "  </tbody>\n",
              "</table>\n",
              "</div>"
            ],
            "text/plain": [
              "     merchant                time  amount_usd_in_cents  ...  month  week  day\n",
              "0  1c8b539073 2033-03-10 18:46:49                  715  ...      3    10   10\n",
              "1  4647d230cc 2034-04-29 02:19:37                 8010  ...      4    17   29\n",
              "2  4f65280858 2034-03-17 04:03:32                11731  ...      3    11   17\n",
              "3  4a98a5cdc1 2033-02-21 13:00:11                 3486  ...      2     8   21\n",
              "4  06fe79e266 2034-12-01 16:56:37                 2314  ...     12    48    1\n",
              "\n",
              "[5 rows x 8 columns]"
            ]
          },
          "metadata": {},
          "execution_count": 31
        }
      ]
    },
    {
      "cell_type": "markdown",
      "metadata": {
        "id": "0050bf70"
      },
      "source": [
        "## 3. RFM Model"
      ],
      "id": "0050bf70"
    },
    {
      "cell_type": "markdown",
      "metadata": {
        "id": "d46e3181"
      },
      "source": [
        "<font size=\"4\">\n",
        "More information on RFM model could be found from this site: \n",
        "    https://searchdatamanagement.techtarget.com/definition/RFM-analysis<br>\n",
        "    <br>\n",
        "Basically, RFM (recency, frequency, monetary) analysis is a marketing technique used to quantiatively rank and group customers based on the recency, frequency and monetary total of their recent transactions to indentify the best customers and perform target marketing campasigns. We will apply RFM model to our dataset to identify \"Churn\" customer for our next Machine learning work.\n",
        "    \n",
        "Recency — number of days since the last purchase\n",
        "\n",
        "Frequency — number of transactions made over a given period\n",
        "\n",
        "Monetary — amount spent over a given period of time</font>\n",
        "\n",
        "\n",
        "\n"
      ],
      "id": "d46e3181"
    },
    {
      "cell_type": "code",
      "metadata": {
        "colab": {
          "base_uri": "https://localhost:8080/",
          "height": 253
        },
        "id": "9680dc29",
        "outputId": "eee5d322-6682-4803-a0b0-54c68b196710"
      },
      "source": [
        "# create Recency, Frequency and MonetaryValue Metrics\n",
        "\n",
        "# set now date\n",
        "Now = pay['time'].max() + timedelta(days=1)\n",
        "print(Now)\n",
        "\n",
        "# grouping by customer\n",
        "data_process = pay.groupby(['merchant']).agg({\n",
        "            'time': lambda x: (Now - x.max()).days,\n",
        "            'merchant':'count',\n",
        "            'amount_usd_in_cents':'sum'})\n",
        "\n",
        "# rename the columns\n",
        "data_process.rename(columns={'time':'Recency',\n",
        "                             'merchant':'Frequency',\n",
        "                             'amount_usd_in_cents':'Monetary'}, inplace=True)\n",
        "\n",
        "# check\n",
        "data_process.head()"
      ],
      "id": "9680dc29",
      "execution_count": 32,
      "outputs": [
        {
          "output_type": "stream",
          "name": "stdout",
          "text": [
            "2035-01-01 07:59:40\n"
          ]
        },
        {
          "output_type": "execute_result",
          "data": {
            "text/html": [
              "<div>\n",
              "<style scoped>\n",
              "    .dataframe tbody tr th:only-of-type {\n",
              "        vertical-align: middle;\n",
              "    }\n",
              "\n",
              "    .dataframe tbody tr th {\n",
              "        vertical-align: top;\n",
              "    }\n",
              "\n",
              "    .dataframe thead th {\n",
              "        text-align: right;\n",
              "    }\n",
              "</style>\n",
              "<table border=\"1\" class=\"dataframe\">\n",
              "  <thead>\n",
              "    <tr style=\"text-align: right;\">\n",
              "      <th></th>\n",
              "      <th>Recency</th>\n",
              "      <th>Frequency</th>\n",
              "      <th>Monetary</th>\n",
              "    </tr>\n",
              "    <tr>\n",
              "      <th>merchant</th>\n",
              "      <th></th>\n",
              "      <th></th>\n",
              "      <th></th>\n",
              "    </tr>\n",
              "  </thead>\n",
              "  <tbody>\n",
              "    <tr>\n",
              "      <th>000f8c3297</th>\n",
              "      <td>1</td>\n",
              "      <td>290</td>\n",
              "      <td>3455191</td>\n",
              "    </tr>\n",
              "    <tr>\n",
              "      <th>00575c7901</th>\n",
              "      <td>1</td>\n",
              "      <td>9860</td>\n",
              "      <td>67935727</td>\n",
              "    </tr>\n",
              "    <tr>\n",
              "      <th>00607c6461</th>\n",
              "      <td>10</td>\n",
              "      <td>1</td>\n",
              "      <td>50094</td>\n",
              "    </tr>\n",
              "    <tr>\n",
              "      <th>0063ff0c6b</th>\n",
              "      <td>42</td>\n",
              "      <td>28</td>\n",
              "      <td>1096174</td>\n",
              "    </tr>\n",
              "    <tr>\n",
              "      <th>007364b02a</th>\n",
              "      <td>417</td>\n",
              "      <td>3</td>\n",
              "      <td>60880</td>\n",
              "    </tr>\n",
              "  </tbody>\n",
              "</table>\n",
              "</div>"
            ],
            "text/plain": [
              "            Recency  Frequency  Monetary\n",
              "merchant                                \n",
              "000f8c3297        1        290   3455191\n",
              "00575c7901        1       9860  67935727\n",
              "00607c6461       10          1     50094\n",
              "0063ff0c6b       42         28   1096174\n",
              "007364b02a      417          3     60880"
            ]
          },
          "metadata": {},
          "execution_count": 32
        }
      ]
    },
    {
      "cell_type": "code",
      "metadata": {
        "colab": {
          "base_uri": "https://localhost:8080/",
          "height": 883
        },
        "id": "0395e904",
        "outputId": "571d7b64-17c4-4bac-efa0-28336a03b2e7"
      },
      "source": [
        "# quick data visu on the rfm table\n",
        "\n",
        "plt.figure(figsize=(15,15))\n",
        "\n",
        "# plot distribution of R\n",
        "plt.subplot(3, 1, 1); sns.distplot(data_process['Recency'])\n",
        "\n",
        "# plot distribution of F\n",
        "plt.subplot(3, 1, 2); sns.distplot(data_process['Frequency'])\n",
        "\n",
        "# plot distribution of M\n",
        "plt.subplot(3, 1, 3); sns.distplot(data_process['Monetary'])\n",
        "\n",
        "# show the plot\n",
        "plt.show()\n"
      ],
      "id": "0395e904",
      "execution_count": 33,
      "outputs": [
        {
          "output_type": "display_data",
          "data": {
            "image/png": "[encoded data removed]",
            "text/plain": [
              "<Figure size 1080x1080 with 3 Axes>"
            ]
          },
          "metadata": {
            "needs_background": "light"
          }
        }
      ]
    },
    {
      "cell_type": "markdown",
      "metadata": {
        "id": "079455be"
      },
      "source": [
        "<font size=\"4\">\n",
        "Our data is very skewed which is not a total surprise. We will group these values in quantiles and seperate them into different customer segments.</font>"
      ],
      "id": "079455be"
    },
    {
      "cell_type": "code",
      "metadata": {
        "colab": {
          "base_uri": "https://localhost:8080/",
          "height": 236
        },
        "id": "9b58a474",
        "outputId": "c2045479-0d46-4ca3-d035-0abeb6f3a37b"
      },
      "source": [
        "# calculate R, F, M groups\n",
        "\n",
        "# create labels for Recency, Frequency and Monetary\n",
        "r_labels = range(4, 0, -1); f_labels = range(1,5); m_labels = range(1,5)\n",
        "\n",
        "# assign these labels to 4 equal percentile groups \n",
        "r_groups = pd.qcut(data_process['Recency'], q=4, labels=r_labels)\n",
        "\n",
        "# assign these labels to 4 equal percentile groups \n",
        "f_groups = pd.qcut(data_process['Frequency'], q=4, labels=f_labels)\n",
        "\n",
        "# assign these labels to three equal percentile groups \n",
        "m_groups = pd.qcut(data_process['Monetary'], q=4, labels=m_labels)\n",
        "\n",
        "# create new columns R, F and M\n",
        "data_process = data_process.assign(R = r_groups.values, F = f_groups.values, M=m_groups.values)\n",
        "\n",
        "# check\n",
        "data_process.head()"
      ],
      "id": "9b58a474",
      "execution_count": 34,
      "outputs": [
        {
          "output_type": "execute_result",
          "data": {
            "text/html": [
              "<div>\n",
              "<style scoped>\n",
              "    .dataframe tbody tr th:only-of-type {\n",
              "        vertical-align: middle;\n",
              "    }\n",
              "\n",
              "    .dataframe tbody tr th {\n",
              "        vertical-align: top;\n",
              "    }\n",
              "\n",
              "    .dataframe thead th {\n",
              "        text-align: right;\n",
              "    }\n",
              "</style>\n",
              "<table border=\"1\" class=\"dataframe\">\n",
              "  <thead>\n",
              "    <tr style=\"text-align: right;\">\n",
              "      <th></th>\n",
              "      <th>Recency</th>\n",
              "      <th>Frequency</th>\n",
              "      <th>Monetary</th>\n",
              "      <th>R</th>\n",
              "      <th>F</th>\n",
              "      <th>M</th>\n",
              "    </tr>\n",
              "    <tr>\n",
              "      <th>merchant</th>\n",
              "      <th></th>\n",
              "      <th></th>\n",
              "      <th></th>\n",
              "      <th></th>\n",
              "      <th></th>\n",
              "      <th></th>\n",
              "    </tr>\n",
              "  </thead>\n",
              "  <tbody>\n",
              "    <tr>\n",
              "      <th>000f8c3297</th>\n",
              "      <td>1</td>\n",
              "      <td>290</td>\n",
              "      <td>3455191</td>\n",
              "      <td>4</td>\n",
              "      <td>4</td>\n",
              "      <td>4</td>\n",
              "    </tr>\n",
              "    <tr>\n",
              "      <th>00575c7901</th>\n",
              "      <td>1</td>\n",
              "      <td>9860</td>\n",
              "      <td>67935727</td>\n",
              "      <td>4</td>\n",
              "      <td>4</td>\n",
              "      <td>4</td>\n",
              "    </tr>\n",
              "    <tr>\n",
              "      <th>00607c6461</th>\n",
              "      <td>10</td>\n",
              "      <td>1</td>\n",
              "      <td>50094</td>\n",
              "      <td>4</td>\n",
              "      <td>1</td>\n",
              "      <td>2</td>\n",
              "    </tr>\n",
              "    <tr>\n",
              "      <th>0063ff0c6b</th>\n",
              "      <td>42</td>\n",
              "      <td>28</td>\n",
              "      <td>1096174</td>\n",
              "      <td>3</td>\n",
              "      <td>3</td>\n",
              "      <td>4</td>\n",
              "    </tr>\n",
              "    <tr>\n",
              "      <th>007364b02a</th>\n",
              "      <td>417</td>\n",
              "      <td>3</td>\n",
              "      <td>60880</td>\n",
              "      <td>1</td>\n",
              "      <td>1</td>\n",
              "      <td>2</td>\n",
              "    </tr>\n",
              "  </tbody>\n",
              "</table>\n",
              "</div>"
            ],
            "text/plain": [
              "            Recency  Frequency  Monetary  R  F  M\n",
              "merchant                                         \n",
              "000f8c3297        1        290   3455191  4  4  4\n",
              "00575c7901        1       9860  67935727  4  4  4\n",
              "00607c6461       10          1     50094  4  1  2\n",
              "0063ff0c6b       42         28   1096174  3  3  4\n",
              "007364b02a      417          3     60880  1  1  2"
            ]
          },
          "metadata": {},
          "execution_count": 34
        }
      ]
    },
    {
      "cell_type": "markdown",
      "metadata": {
        "id": "2d8dd155"
      },
      "source": [
        "\n",
        "<font size=\"4\">\n",
        "With these 3 scores in RFM, we can create the RFM segment by concatenating the values together below.</font>\n",
        "\n"
      ],
      "id": "2d8dd155"
    },
    {
      "cell_type": "code",
      "metadata": {
        "colab": {
          "base_uri": "https://localhost:8080/",
          "height": 236
        },
        "id": "20ca375a",
        "outputId": "70b7b31b-1091-4e81-d681-c1a677309a51"
      },
      "source": [
        "# concat RFM quartile values to create RFM Segments\n",
        "def join_rfm(x): return str(x['R']) + str(x['F']) + str(x['M'])\n",
        "data_process['RFM_Segment_Concat'] = data_process.apply(join_rfm, axis=1)\n",
        "rfm = data_process\n",
        "\n",
        "# check\n",
        "rfm.head()"
      ],
      "id": "20ca375a",
      "execution_count": 35,
      "outputs": [
        {
          "output_type": "execute_result",
          "data": {
            "text/html": [
              "<div>\n",
              "<style scoped>\n",
              "    .dataframe tbody tr th:only-of-type {\n",
              "        vertical-align: middle;\n",
              "    }\n",
              "\n",
              "    .dataframe tbody tr th {\n",
              "        vertical-align: top;\n",
              "    }\n",
              "\n",
              "    .dataframe thead th {\n",
              "        text-align: right;\n",
              "    }\n",
              "</style>\n",
              "<table border=\"1\" class=\"dataframe\">\n",
              "  <thead>\n",
              "    <tr style=\"text-align: right;\">\n",
              "      <th></th>\n",
              "      <th>Recency</th>\n",
              "      <th>Frequency</th>\n",
              "      <th>Monetary</th>\n",
              "      <th>R</th>\n",
              "      <th>F</th>\n",
              "      <th>M</th>\n",
              "      <th>RFM_Segment_Concat</th>\n",
              "    </tr>\n",
              "    <tr>\n",
              "      <th>merchant</th>\n",
              "      <th></th>\n",
              "      <th></th>\n",
              "      <th></th>\n",
              "      <th></th>\n",
              "      <th></th>\n",
              "      <th></th>\n",
              "      <th></th>\n",
              "    </tr>\n",
              "  </thead>\n",
              "  <tbody>\n",
              "    <tr>\n",
              "      <th>000f8c3297</th>\n",
              "      <td>1</td>\n",
              "      <td>290</td>\n",
              "      <td>3455191</td>\n",
              "      <td>4</td>\n",
              "      <td>4</td>\n",
              "      <td>4</td>\n",
              "      <td>444</td>\n",
              "    </tr>\n",
              "    <tr>\n",
              "      <th>00575c7901</th>\n",
              "      <td>1</td>\n",
              "      <td>9860</td>\n",
              "      <td>67935727</td>\n",
              "      <td>4</td>\n",
              "      <td>4</td>\n",
              "      <td>4</td>\n",
              "      <td>444</td>\n",
              "    </tr>\n",
              "    <tr>\n",
              "      <th>00607c6461</th>\n",
              "      <td>10</td>\n",
              "      <td>1</td>\n",
              "      <td>50094</td>\n",
              "      <td>4</td>\n",
              "      <td>1</td>\n",
              "      <td>2</td>\n",
              "      <td>412</td>\n",
              "    </tr>\n",
              "    <tr>\n",
              "      <th>0063ff0c6b</th>\n",
              "      <td>42</td>\n",
              "      <td>28</td>\n",
              "      <td>1096174</td>\n",
              "      <td>3</td>\n",
              "      <td>3</td>\n",
              "      <td>4</td>\n",
              "      <td>334</td>\n",
              "    </tr>\n",
              "    <tr>\n",
              "      <th>007364b02a</th>\n",
              "      <td>417</td>\n",
              "      <td>3</td>\n",
              "      <td>60880</td>\n",
              "      <td>1</td>\n",
              "      <td>1</td>\n",
              "      <td>2</td>\n",
              "      <td>112</td>\n",
              "    </tr>\n",
              "  </tbody>\n",
              "</table>\n",
              "</div>"
            ],
            "text/plain": [
              "            Recency  Frequency  Monetary  R  F  M RFM_Segment_Concat\n",
              "merchant                                                            \n",
              "000f8c3297        1        290   3455191  4  4  4                444\n",
              "00575c7901        1       9860  67935727  4  4  4                444\n",
              "00607c6461       10          1     50094  4  1  2                412\n",
              "0063ff0c6b       42         28   1096174  3  3  4                334\n",
              "007364b02a      417          3     60880  1  1  2                112"
            ]
          },
          "metadata": {},
          "execution_count": 35
        }
      ]
    },
    {
      "cell_type": "markdown",
      "metadata": {
        "id": "40c0a5ed"
      },
      "source": [
        "\n",
        "<font size=\"4\">\n",
        "We are ready for customer segmentation but there might be too many groups at this moment...</font>"
      ],
      "id": "40c0a5ed"
    },
    {
      "cell_type": "code",
      "metadata": {
        "colab": {
          "base_uri": "https://localhost:8080/"
        },
        "id": "e8280de8",
        "outputId": "61b0a6b9-2a48-45a1-9a3c-eb827033f753"
      },
      "source": [
        "# count num of unique segments\n",
        "rfm_count_unique = rfm.groupby('RFM_Segment_Concat')['RFM_Segment_Concat'].nunique()\n",
        "print(rfm_count_unique.sum())"
      ],
      "id": "e8280de8",
      "execution_count": 36,
      "outputs": [
        {
          "output_type": "stream",
          "name": "stdout",
          "text": [
            "61\n"
          ]
        }
      ]
    },
    {
      "cell_type": "markdown",
      "metadata": {
        "id": "686bf0de"
      },
      "source": [
        "<font size=\"4\">\n",
        "61 groups! This is way too many. So we may have to take a different apporach by summarizing the RFM scores and define RFM levels for each score range.</font>"
      ],
      "id": "686bf0de"
    },
    {
      "cell_type": "code",
      "metadata": {
        "colab": {
          "base_uri": "https://localhost:8080/"
        },
        "id": "287ba5f0",
        "outputId": "d621c10d-1b2f-45b5-ed95-8802bc76b91b"
      },
      "source": [
        "# summing the RFM score\n",
        "\n",
        "rfm['RFM_Score'] = rfm[['R','F','M']].sum(axis=1)\n",
        "print(rfm['RFM_Score'].head())"
      ],
      "id": "287ba5f0",
      "execution_count": 37,
      "outputs": [
        {
          "output_type": "stream",
          "name": "stdout",
          "text": [
            "merchant\n",
            "000f8c3297    12\n",
            "00575c7901    12\n",
            "00607c6461     7\n",
            "0063ff0c6b    10\n",
            "007364b02a     4\n",
            "Name: RFM_Score, dtype: int64\n"
          ]
        }
      ]
    },
    {
      "cell_type": "code",
      "metadata": {
        "colab": {
          "base_uri": "https://localhost:8080/"
        },
        "id": "b8a164e3",
        "outputId": "274ccef1-9434-4dc4-839b-5c935c6f4580"
      },
      "source": [
        "# count num of unique segments\n",
        "rfm_score_unique = rfm.groupby('RFM_Score')['RFM_Score'].nunique()\n",
        "print(rfm_score_unique.sum())"
      ],
      "id": "b8a164e3",
      "execution_count": 38,
      "outputs": [
        {
          "output_type": "stream",
          "name": "stdout",
          "text": [
            "10\n"
          ]
        }
      ]
    },
    {
      "cell_type": "code",
      "metadata": {
        "colab": {
          "base_uri": "https://localhost:8080/",
          "height": 302
        },
        "id": "19d0a73d",
        "outputId": "e90e188e-18b6-4491-8824-960727cc29a8"
      },
      "source": [
        "# quick visu\n",
        "\n",
        "sns.distplot(rfm['RFM_Score'])"
      ],
      "id": "19d0a73d",
      "execution_count": 39,
      "outputs": [
        {
          "output_type": "execute_result",
          "data": {
            "text/plain": [
              "<matplotlib.axes._subplots.AxesSubplot at 0x7f9146567410>"
            ]
          },
          "metadata": {},
          "execution_count": 39
        },
        {
          "output_type": "display_data",
          "data": {
            "image/png": "[encoded data removed]",
            "text/plain": [
              "<Figure size 432x288 with 1 Axes>"
            ]
          },
          "metadata": {
            "needs_background": "light"
          }
        }
      ]
    },
    {
      "cell_type": "markdown",
      "metadata": {
        "id": "a7f2dd07"
      },
      "source": [
        "<font size=\"4\">\n",
        "Now we are ready to group the customer to different level based on the RFM scores</font>"
      ],
      "id": "a7f2dd07"
    },
    {
      "cell_type": "code",
      "metadata": {
        "colab": {
          "base_uri": "https://localhost:8080/",
          "height": 236
        },
        "id": "183c796f",
        "outputId": "69414326-d479-4145-e88d-294b16a74fca"
      },
      "source": [
        "# define rfm_level function\n",
        "def rfm_level(df):\n",
        "    if df['RFM_Score'] >= 10:\n",
        "        return 'VIP'\n",
        "    elif ((df['RFM_Score'] >= 8) and (df['RFM_Score'] < 10)):\n",
        "        return 'Loyal'\n",
        "    elif ((df['RFM_Score'] >= 6) and (df['RFM_Score'] < 8)):\n",
        "        return 'Good'\n",
        "    elif ((df['RFM_Score'] >= 4) and (df['RFM_Score'] < 6)):\n",
        "        return 'Potential'\n",
        "    else:\n",
        "        return 'Churn'\n",
        "    \n",
        "# create a new variable RFM_Level\n",
        "rfm['RFM_Level'] = rfm.apply(rfm_level, axis=1)\n",
        "\n",
        "# print the header with top 5 rows to the console\n",
        "rfm.head()"
      ],
      "id": "183c796f",
      "execution_count": 40,
      "outputs": [
        {
          "output_type": "execute_result",
          "data": {
            "text/html": [
              "<div>\n",
              "<style scoped>\n",
              "    .dataframe tbody tr th:only-of-type {\n",
              "        vertical-align: middle;\n",
              "    }\n",
              "\n",
              "    .dataframe tbody tr th {\n",
              "        vertical-align: top;\n",
              "    }\n",
              "\n",
              "    .dataframe thead th {\n",
              "        text-align: right;\n",
              "    }\n",
              "</style>\n",
              "<table border=\"1\" class=\"dataframe\">\n",
              "  <thead>\n",
              "    <tr style=\"text-align: right;\">\n",
              "      <th></th>\n",
              "      <th>Recency</th>\n",
              "      <th>Frequency</th>\n",
              "      <th>Monetary</th>\n",
              "      <th>R</th>\n",
              "      <th>F</th>\n",
              "      <th>M</th>\n",
              "      <th>RFM_Segment_Concat</th>\n",
              "      <th>RFM_Score</th>\n",
              "      <th>RFM_Level</th>\n",
              "    </tr>\n",
              "    <tr>\n",
              "      <th>merchant</th>\n",
              "      <th></th>\n",
              "      <th></th>\n",
              "      <th></th>\n",
              "      <th></th>\n",
              "      <th></th>\n",
              "      <th></th>\n",
              "      <th></th>\n",
              "      <th></th>\n",
              "      <th></th>\n",
              "    </tr>\n",
              "  </thead>\n",
              "  <tbody>\n",
              "    <tr>\n",
              "      <th>000f8c3297</th>\n",
              "      <td>1</td>\n",
              "      <td>290</td>\n",
              "      <td>3455191</td>\n",
              "      <td>4</td>\n",
              "      <td>4</td>\n",
              "      <td>4</td>\n",
              "      <td>444</td>\n",
              "      <td>12</td>\n",
              "      <td>VIP</td>\n",
              "    </tr>\n",
              "    <tr>\n",
              "      <th>00575c7901</th>\n",
              "      <td>1</td>\n",
              "      <td>9860</td>\n",
              "      <td>67935727</td>\n",
              "      <td>4</td>\n",
              "      <td>4</td>\n",
              "      <td>4</td>\n",
              "      <td>444</td>\n",
              "      <td>12</td>\n",
              "      <td>VIP</td>\n",
              "    </tr>\n",
              "    <tr>\n",
              "      <th>00607c6461</th>\n",
              "      <td>10</td>\n",
              "      <td>1</td>\n",
              "      <td>50094</td>\n",
              "      <td>4</td>\n",
              "      <td>1</td>\n",
              "      <td>2</td>\n",
              "      <td>412</td>\n",
              "      <td>7</td>\n",
              "      <td>Good</td>\n",
              "    </tr>\n",
              "    <tr>\n",
              "      <th>0063ff0c6b</th>\n",
              "      <td>42</td>\n",
              "      <td>28</td>\n",
              "      <td>1096174</td>\n",
              "      <td>3</td>\n",
              "      <td>3</td>\n",
              "      <td>4</td>\n",
              "      <td>334</td>\n",
              "      <td>10</td>\n",
              "      <td>VIP</td>\n",
              "    </tr>\n",
              "    <tr>\n",
              "      <th>007364b02a</th>\n",
              "      <td>417</td>\n",
              "      <td>3</td>\n",
              "      <td>60880</td>\n",
              "      <td>1</td>\n",
              "      <td>1</td>\n",
              "      <td>2</td>\n",
              "      <td>112</td>\n",
              "      <td>4</td>\n",
              "      <td>Potential</td>\n",
              "    </tr>\n",
              "  </tbody>\n",
              "</table>\n",
              "</div>"
            ],
            "text/plain": [
              "            Recency  Frequency  ...  RFM_Score  RFM_Level\n",
              "merchant                        ...                      \n",
              "000f8c3297        1        290  ...         12        VIP\n",
              "00575c7901        1       9860  ...         12        VIP\n",
              "00607c6461       10          1  ...          7       Good\n",
              "0063ff0c6b       42         28  ...         10        VIP\n",
              "007364b02a      417          3  ...          4  Potential\n",
              "\n",
              "[5 rows x 9 columns]"
            ]
          },
          "metadata": {},
          "execution_count": 40
        }
      ]
    },
    {
      "cell_type": "markdown",
      "metadata": {
        "id": "d95f3e5d"
      },
      "source": [
        "<font size=\"4\">\n",
        "Creating RFM summary report</font>"
      ],
      "id": "d95f3e5d"
    },
    {
      "cell_type": "code",
      "metadata": {
        "colab": {
          "base_uri": "https://localhost:8080/"
        },
        "id": "4f8b8456",
        "outputId": "1118845d-5a70-4906-f05c-3c11529035c3"
      },
      "source": [
        "# calculate average values for each RFM_Level, and return a size of each segment \n",
        "rfm_level_agg = rfm.groupby('RFM_Level').agg({\n",
        "    'Recency': 'mean',\n",
        "    'Frequency': 'mean',\n",
        "    'Monetary': ['mean', 'count']\n",
        "}).round(1)\n",
        "\n",
        "# print the aggregated dataset\n",
        "print(rfm_level_agg)"
      ],
      "id": "4f8b8456",
      "execution_count": 41,
      "outputs": [
        {
          "output_type": "stream",
          "name": "stdout",
          "text": [
            "          Recency Frequency   Monetary      \n",
            "             mean      mean       mean count\n",
            "RFM_Level                                   \n",
            "Churn       419.3       1.7    15173.2   328\n",
            "Good        155.2      10.2   202139.3  1117\n",
            "Loyal        98.9      41.3   786869.1   999\n",
            "Potential   225.5       3.4    48386.7  1162\n",
            "VIP          14.1     349.8  4990592.5  1394\n"
          ]
        }
      ]
    },
    {
      "cell_type": "markdown",
      "metadata": {
        "id": "bf8b091b"
      },
      "source": [
        "<font size=\"4\">\n",
        "And some visulization</font>"
      ],
      "id": "bf8b091b"
    },
    {
      "cell_type": "code",
      "metadata": {
        "colab": {
          "base_uri": "https://localhost:8080/",
          "height": 540
        },
        "id": "4b33570f",
        "outputId": "63768412-31d9-40a6-bb4b-996ab698336f"
      },
      "source": [
        "# rfm model visulization\n",
        "\n",
        "# rfm_level_agg.columns = rfm_level_agg.columns.droplevel()\n",
        "rfm_level_agg.columns = ['RecencyMean','FrequencyMean','MonetaryMean', 'Count']\n",
        "#Create our plot and resize it.\n",
        "fig = plt.gcf()\n",
        "ax = fig.add_subplot()\n",
        "fig.set_size_inches(16, 9)\n",
        "squarify.plot(sizes=rfm_level_agg['Count'], \n",
        "              label=['VIP',\n",
        "                     'Loyal',\n",
        "                     'Good',\n",
        "                     'Potential', \n",
        "                     'Churn'], alpha=.6 )\n",
        "plt.title(\"RFM Segments\",fontsize=18,fontweight=\"bold\")\n",
        "plt.axis('off')\n",
        "plt.show()"
      ],
      "id": "4b33570f",
      "execution_count": 42,
      "outputs": [
        {
          "output_type": "display_data",
          "data": {
            "image/png": "[encoded data removed]",
            "text/plain": [
              "<Figure size 1152x648 with 1 Axes>"
            ]
          },
          "metadata": {
            "needs_background": "light"
          }
        }
      ]
    },
    {
      "cell_type": "markdown",
      "metadata": {
        "id": "a6bf1fb3"
      },
      "source": [
        "<font size=\"4\">\n",
        "It seems the business is on track. Majority of customer are receiving decent RFM scores and in the top levels. But more work might be needed on the churn and potential churn groups.<br><br>\n",
        "    \n",
        "This concludes the 3rd section RFM model. Our next section is ML prediction.</font>"
      ],
      "id": "a6bf1fb3"
    },
    {
      "cell_type": "markdown",
      "metadata": {
        "id": "daf52c37"
      },
      "source": [
        "## 4. Machine Learning"
      ],
      "id": "daf52c37"
    },
    {
      "cell_type": "markdown",
      "metadata": {
        "id": "bd5943f7"
      },
      "source": [
        "### 4.1 Define Churn"
      ],
      "id": "bd5943f7"
    },
    {
      "cell_type": "markdown",
      "metadata": {
        "id": "8bebb5e7"
      },
      "source": [
        "<font size=\"4\">\n",
        "Our dataset is unlabeled there is no target column. We have to define the churn ourselves. Customer churn happens when customers decide to not continue purchasing products/services from an organization and end their association.<br> \n",
        "    \n",
        "And if we go back to our RFM model you can see there is a signficant difference in terms RFM values between potential vs churn groups. The Recency mean of potential group is 226days(around 7month) and the Recency mean of churn group is 419days (around 14 months). Based on all these info. We decided to pick 365days (~1 year) as the criteria. So here is the our definition on this dataset for customer churn\n",
        "\n",
        "    if no transaction in <365 days then churn = yes else churn = no\n",
        "                              \n",
        "Note: this is a bit subjective but might make sense because many of business do annual subscription.</font>"
      ],
      "id": "8bebb5e7"
    },
    {
      "cell_type": "code",
      "metadata": {
        "colab": {
          "base_uri": "https://localhost:8080/",
          "height": 236
        },
        "id": "16dde8c2",
        "outputId": "8f81b028-04f4-4dd6-b80f-0b44a5420f86"
      },
      "source": [
        "# define churn \n",
        "\n",
        "# it's kind of subjective but we will use >365day not transactions as the critiera for churn\n",
        "\n",
        "# define churn function\n",
        "def churn(df):\n",
        "    if df['Recency'] >= 365:\n",
        "        return 1\n",
        "    else:\n",
        "        return 0\n",
        "    \n",
        "# create a new column churn\n",
        "rfm['Churn'] = rfm.apply(churn, axis=1)\n",
        "\n",
        "# check\n",
        "rfm.head()"
      ],
      "id": "16dde8c2",
      "execution_count": 43,
      "outputs": [
        {
          "output_type": "execute_result",
          "data": {
            "text/html": [
              "<div>\n",
              "<style scoped>\n",
              "    .dataframe tbody tr th:only-of-type {\n",
              "        vertical-align: middle;\n",
              "    }\n",
              "\n",
              "    .dataframe tbody tr th {\n",
              "        vertical-align: top;\n",
              "    }\n",
              "\n",
              "    .dataframe thead th {\n",
              "        text-align: right;\n",
              "    }\n",
              "</style>\n",
              "<table border=\"1\" class=\"dataframe\">\n",
              "  <thead>\n",
              "    <tr style=\"text-align: right;\">\n",
              "      <th></th>\n",
              "      <th>Recency</th>\n",
              "      <th>Frequency</th>\n",
              "      <th>Monetary</th>\n",
              "      <th>R</th>\n",
              "      <th>F</th>\n",
              "      <th>M</th>\n",
              "      <th>RFM_Segment_Concat</th>\n",
              "      <th>RFM_Score</th>\n",
              "      <th>RFM_Level</th>\n",
              "      <th>Churn</th>\n",
              "    </tr>\n",
              "    <tr>\n",
              "      <th>merchant</th>\n",
              "      <th></th>\n",
              "      <th></th>\n",
              "      <th></th>\n",
              "      <th></th>\n",
              "      <th></th>\n",
              "      <th></th>\n",
              "      <th></th>\n",
              "      <th></th>\n",
              "      <th></th>\n",
              "      <th></th>\n",
              "    </tr>\n",
              "  </thead>\n",
              "  <tbody>\n",
              "    <tr>\n",
              "      <th>000f8c3297</th>\n",
              "      <td>1</td>\n",
              "      <td>290</td>\n",
              "      <td>3455191</td>\n",
              "      <td>4</td>\n",
              "      <td>4</td>\n",
              "      <td>4</td>\n",
              "      <td>444</td>\n",
              "      <td>12</td>\n",
              "      <td>VIP</td>\n",
              "      <td>0</td>\n",
              "    </tr>\n",
              "    <tr>\n",
              "      <th>00575c7901</th>\n",
              "      <td>1</td>\n",
              "      <td>9860</td>\n",
              "      <td>67935727</td>\n",
              "      <td>4</td>\n",
              "      <td>4</td>\n",
              "      <td>4</td>\n",
              "      <td>444</td>\n",
              "      <td>12</td>\n",
              "      <td>VIP</td>\n",
              "      <td>0</td>\n",
              "    </tr>\n",
              "    <tr>\n",
              "      <th>00607c6461</th>\n",
              "      <td>10</td>\n",
              "      <td>1</td>\n",
              "      <td>50094</td>\n",
              "      <td>4</td>\n",
              "      <td>1</td>\n",
              "      <td>2</td>\n",
              "      <td>412</td>\n",
              "      <td>7</td>\n",
              "      <td>Good</td>\n",
              "      <td>0</td>\n",
              "    </tr>\n",
              "    <tr>\n",
              "      <th>0063ff0c6b</th>\n",
              "      <td>42</td>\n",
              "      <td>28</td>\n",
              "      <td>1096174</td>\n",
              "      <td>3</td>\n",
              "      <td>3</td>\n",
              "      <td>4</td>\n",
              "      <td>334</td>\n",
              "      <td>10</td>\n",
              "      <td>VIP</td>\n",
              "      <td>0</td>\n",
              "    </tr>\n",
              "    <tr>\n",
              "      <th>007364b02a</th>\n",
              "      <td>417</td>\n",
              "      <td>3</td>\n",
              "      <td>60880</td>\n",
              "      <td>1</td>\n",
              "      <td>1</td>\n",
              "      <td>2</td>\n",
              "      <td>112</td>\n",
              "      <td>4</td>\n",
              "      <td>Potential</td>\n",
              "      <td>1</td>\n",
              "    </tr>\n",
              "  </tbody>\n",
              "</table>\n",
              "</div>"
            ],
            "text/plain": [
              "            Recency  Frequency  Monetary  ... RFM_Score  RFM_Level Churn\n",
              "merchant                                  ...                           \n",
              "000f8c3297        1        290   3455191  ...        12        VIP     0\n",
              "00575c7901        1       9860  67935727  ...        12        VIP     0\n",
              "00607c6461       10          1     50094  ...         7       Good     0\n",
              "0063ff0c6b       42         28   1096174  ...        10        VIP     0\n",
              "007364b02a      417          3     60880  ...         4  Potential     1\n",
              "\n",
              "[5 rows x 10 columns]"
            ]
          },
          "metadata": {},
          "execution_count": 43
        }
      ]
    },
    {
      "cell_type": "markdown",
      "metadata": {
        "id": "2e286203"
      },
      "source": [
        "<font size=\"4\">\n",
        "And a quick visulization</font>"
      ],
      "id": "2e286203"
    },
    {
      "cell_type": "code",
      "metadata": {
        "colab": {
          "base_uri": "https://localhost:8080/",
          "height": 393
        },
        "id": "5fe91d4a",
        "outputId": "01b0fcc7-244c-4b60-cbee-b8fdff889d11"
      },
      "source": [
        "fig, axes = plt.subplots(1, 3, figsize=(15, 5))\n",
        "fig.suptitle('RFM vs Churn')\n",
        "\n",
        "# Recency\n",
        "sns.boxplot(ax=axes[0], x='Churn', y='Recency', data=rfm, sym=\"\",)\n",
        "axes[0].set_title('Recency')\n",
        "\n",
        "# Frequency\n",
        "sns.boxplot(ax=axes[1], x='Churn', y='Frequency', data=rfm, sym=\"\",)\n",
        "axes[1].set_title('Frequency')\n",
        "\n",
        "# Monetary\n",
        "sns.boxplot(ax=axes[2], x='Churn', y='Monetary', data=rfm, sym=\"\",)\n",
        "axes[2].set_title('Monetary')"
      ],
      "id": "5fe91d4a",
      "execution_count": 44,
      "outputs": [
        {
          "output_type": "execute_result",
          "data": {
            "text/plain": [
              "Text(0.5, 1.0, 'Monetary')"
            ]
          },
          "metadata": {},
          "execution_count": 44
        },
        {
          "output_type": "display_data",
          "data": {
            "image/png": "[encoded data removed]",
            "text/plain": [
              "<Figure size 1080x360 with 3 Axes>"
            ]
          },
          "metadata": {
            "needs_background": "light"
          }
        }
      ]
    },
    {
      "cell_type": "markdown",
      "metadata": {
        "id": "e1b834e1"
      },
      "source": [
        "<font size=\"4\">\n",
        "It's interesting to see churn group not only has much longer Recency, but also smaller frequency and monetary.</font>"
      ],
      "id": "e1b834e1"
    },
    {
      "cell_type": "markdown",
      "metadata": {
        "id": "25ffde9c"
      },
      "source": [
        "### 4.2 Feature Engineering "
      ],
      "id": "25ffde9c"
    },
    {
      "cell_type": "markdown",
      "metadata": {
        "id": "43c36eb9"
      },
      "source": [
        "<font size=\"4\">\n",
        "Additional feature engineering is needed to create more useful features for Machine Learning models. We want to aggregate the transactions in a way to retrieve useful information.</font>"
      ],
      "id": "43c36eb9"
    },
    {
      "cell_type": "code",
      "metadata": {
        "colab": {
          "base_uri": "https://localhost:8080/",
          "height": 205
        },
        "id": "fc3f1968",
        "outputId": "aa37b59f-6cf6-40eb-f817-8f47ae65fb95"
      },
      "source": [
        "# back to our pay dataset\n",
        "\n",
        "# add year_quarter so we could summarize the sale on a quarterly basis for each customer\n",
        "pay[\"year_quarter\"] = pay[\"year\"].astype(str)+ \"_\" + pay[\"quarter\"].astype(str)\n",
        "\n",
        "# check\n",
        "pay.head()"
      ],
      "id": "fc3f1968",
      "execution_count": 45,
      "outputs": [
        {
          "output_type": "execute_result",
          "data": {
            "text/html": [
              "<div>\n",
              "<style scoped>\n",
              "    .dataframe tbody tr th:only-of-type {\n",
              "        vertical-align: middle;\n",
              "    }\n",
              "\n",
              "    .dataframe tbody tr th {\n",
              "        vertical-align: top;\n",
              "    }\n",
              "\n",
              "    .dataframe thead th {\n",
              "        text-align: right;\n",
              "    }\n",
              "</style>\n",
              "<table border=\"1\" class=\"dataframe\">\n",
              "  <thead>\n",
              "    <tr style=\"text-align: right;\">\n",
              "      <th></th>\n",
              "      <th>merchant</th>\n",
              "      <th>time</th>\n",
              "      <th>amount_usd_in_cents</th>\n",
              "      <th>year</th>\n",
              "      <th>quarter</th>\n",
              "      <th>month</th>\n",
              "      <th>week</th>\n",
              "      <th>day</th>\n",
              "      <th>year_quarter</th>\n",
              "    </tr>\n",
              "  </thead>\n",
              "  <tbody>\n",
              "    <tr>\n",
              "      <th>0</th>\n",
              "      <td>1c8b539073</td>\n",
              "      <td>2033-03-10 18:46:49</td>\n",
              "      <td>715</td>\n",
              "      <td>2033</td>\n",
              "      <td>1</td>\n",
              "      <td>3</td>\n",
              "      <td>10</td>\n",
              "      <td>10</td>\n",
              "      <td>2033_1</td>\n",
              "    </tr>\n",
              "    <tr>\n",
              "      <th>1</th>\n",
              "      <td>4647d230cc</td>\n",
              "      <td>2034-04-29 02:19:37</td>\n",
              "      <td>8010</td>\n",
              "      <td>2034</td>\n",
              "      <td>2</td>\n",
              "      <td>4</td>\n",
              "      <td>17</td>\n",
              "      <td>29</td>\n",
              "      <td>2034_2</td>\n",
              "    </tr>\n",
              "    <tr>\n",
              "      <th>2</th>\n",
              "      <td>4f65280858</td>\n",
              "      <td>2034-03-17 04:03:32</td>\n",
              "      <td>11731</td>\n",
              "      <td>2034</td>\n",
              "      <td>1</td>\n",
              "      <td>3</td>\n",
              "      <td>11</td>\n",
              "      <td>17</td>\n",
              "      <td>2034_1</td>\n",
              "    </tr>\n",
              "    <tr>\n",
              "      <th>3</th>\n",
              "      <td>4a98a5cdc1</td>\n",
              "      <td>2033-02-21 13:00:11</td>\n",
              "      <td>3486</td>\n",
              "      <td>2033</td>\n",
              "      <td>1</td>\n",
              "      <td>2</td>\n",
              "      <td>8</td>\n",
              "      <td>21</td>\n",
              "      <td>2033_1</td>\n",
              "    </tr>\n",
              "    <tr>\n",
              "      <th>4</th>\n",
              "      <td>06fe79e266</td>\n",
              "      <td>2034-12-01 16:56:37</td>\n",
              "      <td>2314</td>\n",
              "      <td>2034</td>\n",
              "      <td>4</td>\n",
              "      <td>12</td>\n",
              "      <td>48</td>\n",
              "      <td>1</td>\n",
              "      <td>2034_4</td>\n",
              "    </tr>\n",
              "  </tbody>\n",
              "</table>\n",
              "</div>"
            ],
            "text/plain": [
              "     merchant                time  amount_usd_in_cents  ...  week  day  year_quarter\n",
              "0  1c8b539073 2033-03-10 18:46:49                  715  ...    10   10        2033_1\n",
              "1  4647d230cc 2034-04-29 02:19:37                 8010  ...    17   29        2034_2\n",
              "2  4f65280858 2034-03-17 04:03:32                11731  ...    11   17        2034_1\n",
              "3  4a98a5cdc1 2033-02-21 13:00:11                 3486  ...     8   21        2033_1\n",
              "4  06fe79e266 2034-12-01 16:56:37                 2314  ...    48    1        2034_4\n",
              "\n",
              "[5 rows x 9 columns]"
            ]
          },
          "metadata": {},
          "execution_count": 45
        }
      ]
    },
    {
      "cell_type": "markdown",
      "metadata": {
        "id": "9a7c6998"
      },
      "source": [
        "<font size=\"4\">\n",
        "We could summarize the customer transaction to yearly, monthly or weekly. But we decide to use quarterly at this time.</font>"
      ],
      "id": "9a7c6998"
    },
    {
      "cell_type": "code",
      "metadata": {
        "colab": {
          "base_uri": "https://localhost:8080/",
          "height": 452
        },
        "id": "d9697be6",
        "outputId": "2c177e83-2f62-4410-955d-a90b7888822f"
      },
      "source": [
        "# agg the sale to quarterly\n",
        "temp_pay = pay.groupby(['merchant','year_quarter'], \n",
        "                      as_index=False).agg({'amount_usd_in_cents':['sum','mean','max','min','count']})\n",
        "\n",
        "temp_pay.round(2)"
      ],
      "id": "d9697be6",
      "execution_count": 46,
      "outputs": [
        {
          "output_type": "execute_result",
          "data": {
            "text/html": [
              "<div>\n",
              "<style scoped>\n",
              "    .dataframe tbody tr th:only-of-type {\n",
              "        vertical-align: middle;\n",
              "    }\n",
              "\n",
              "    .dataframe tbody tr th {\n",
              "        vertical-align: top;\n",
              "    }\n",
              "\n",
              "    .dataframe thead tr th {\n",
              "        text-align: left;\n",
              "    }\n",
              "</style>\n",
              "<table border=\"1\" class=\"dataframe\">\n",
              "  <thead>\n",
              "    <tr>\n",
              "      <th></th>\n",
              "      <th>merchant</th>\n",
              "      <th>year_quarter</th>\n",
              "      <th colspan=\"5\" halign=\"left\">amount_usd_in_cents</th>\n",
              "    </tr>\n",
              "    <tr>\n",
              "      <th></th>\n",
              "      <th></th>\n",
              "      <th></th>\n",
              "      <th>sum</th>\n",
              "      <th>mean</th>\n",
              "      <th>max</th>\n",
              "      <th>min</th>\n",
              "      <th>count</th>\n",
              "    </tr>\n",
              "  </thead>\n",
              "  <tbody>\n",
              "    <tr>\n",
              "      <th>0</th>\n",
              "      <td>000f8c3297</td>\n",
              "      <td>2033_3</td>\n",
              "      <td>22889</td>\n",
              "      <td>22889.00</td>\n",
              "      <td>22889</td>\n",
              "      <td>22889</td>\n",
              "      <td>1</td>\n",
              "    </tr>\n",
              "    <tr>\n",
              "      <th>1</th>\n",
              "      <td>000f8c3297</td>\n",
              "      <td>2033_4</td>\n",
              "      <td>162190</td>\n",
              "      <td>10136.88</td>\n",
              "      <td>23136</td>\n",
              "      <td>6108</td>\n",
              "      <td>16</td>\n",
              "    </tr>\n",
              "    <tr>\n",
              "      <th>2</th>\n",
              "      <td>000f8c3297</td>\n",
              "      <td>2034_1</td>\n",
              "      <td>457902</td>\n",
              "      <td>15789.72</td>\n",
              "      <td>47255</td>\n",
              "      <td>3171</td>\n",
              "      <td>29</td>\n",
              "    </tr>\n",
              "    <tr>\n",
              "      <th>3</th>\n",
              "      <td>000f8c3297</td>\n",
              "      <td>2034_2</td>\n",
              "      <td>698974</td>\n",
              "      <td>9445.59</td>\n",
              "      <td>34761</td>\n",
              "      <td>1981</td>\n",
              "      <td>74</td>\n",
              "    </tr>\n",
              "    <tr>\n",
              "      <th>4</th>\n",
              "      <td>000f8c3297</td>\n",
              "      <td>2034_3</td>\n",
              "      <td>788629</td>\n",
              "      <td>11597.49</td>\n",
              "      <td>29570</td>\n",
              "      <td>3202</td>\n",
              "      <td>68</td>\n",
              "    </tr>\n",
              "    <tr>\n",
              "      <th>...</th>\n",
              "      <td>...</td>\n",
              "      <td>...</td>\n",
              "      <td>...</td>\n",
              "      <td>...</td>\n",
              "      <td>...</td>\n",
              "      <td>...</td>\n",
              "      <td>...</td>\n",
              "    </tr>\n",
              "    <tr>\n",
              "      <th>13695</th>\n",
              "      <td>ffb94e1865</td>\n",
              "      <td>2034_4</td>\n",
              "      <td>22030602</td>\n",
              "      <td>7944.68</td>\n",
              "      <td>395590</td>\n",
              "      <td>1109</td>\n",
              "      <td>2773</td>\n",
              "    </tr>\n",
              "    <tr>\n",
              "      <th>13696</th>\n",
              "      <td>ffc06f74ff</td>\n",
              "      <td>2034_3</td>\n",
              "      <td>10235</td>\n",
              "      <td>5117.50</td>\n",
              "      <td>8681</td>\n",
              "      <td>1554</td>\n",
              "      <td>2</td>\n",
              "    </tr>\n",
              "    <tr>\n",
              "      <th>13697</th>\n",
              "      <td>fff1754102</td>\n",
              "      <td>2033_3</td>\n",
              "      <td>27150</td>\n",
              "      <td>27150.00</td>\n",
              "      <td>27150</td>\n",
              "      <td>27150</td>\n",
              "      <td>1</td>\n",
              "    </tr>\n",
              "    <tr>\n",
              "      <th>13698</th>\n",
              "      <td>fff1754102</td>\n",
              "      <td>2034_3</td>\n",
              "      <td>489203</td>\n",
              "      <td>11647.69</td>\n",
              "      <td>46557</td>\n",
              "      <td>3452</td>\n",
              "      <td>42</td>\n",
              "    </tr>\n",
              "    <tr>\n",
              "      <th>13699</th>\n",
              "      <td>fff1754102</td>\n",
              "      <td>2034_4</td>\n",
              "      <td>17342</td>\n",
              "      <td>5780.67</td>\n",
              "      <td>9180</td>\n",
              "      <td>4077</td>\n",
              "      <td>3</td>\n",
              "    </tr>\n",
              "  </tbody>\n",
              "</table>\n",
              "<p>13700 rows × 7 columns</p>\n",
              "</div>"
            ],
            "text/plain": [
              "         merchant year_quarter amount_usd_in_cents  ...                     \n",
              "                                               sum  ...     max    min count\n",
              "0      000f8c3297       2033_3               22889  ...   22889  22889     1\n",
              "1      000f8c3297       2033_4              162190  ...   23136   6108    16\n",
              "2      000f8c3297       2034_1              457902  ...   47255   3171    29\n",
              "3      000f8c3297       2034_2              698974  ...   34761   1981    74\n",
              "4      000f8c3297       2034_3              788629  ...   29570   3202    68\n",
              "...           ...          ...                 ...  ...     ...    ...   ...\n",
              "13695  ffb94e1865       2034_4            22030602  ...  395590   1109  2773\n",
              "13696  ffc06f74ff       2034_3               10235  ...    8681   1554     2\n",
              "13697  fff1754102       2033_3               27150  ...   27150  27150     1\n",
              "13698  fff1754102       2034_3              489203  ...   46557   3452    42\n",
              "13699  fff1754102       2034_4               17342  ...    9180   4077     3\n",
              "\n",
              "[13700 rows x 7 columns]"
            ]
          },
          "metadata": {},
          "execution_count": 46
        }
      ]
    },
    {
      "cell_type": "code",
      "metadata": {
        "colab": {
          "base_uri": "https://localhost:8080/",
          "height": 205
        },
        "id": "68de7fed",
        "outputId": "822be4a0-8863-42e9-d018-6322a3825d91"
      },
      "source": [
        "# clean up the table\n",
        "temp_pay.columns = [\n",
        "'_'.join(col).rstrip('_') for col in temp_pay.columns.values\n",
        "]\n",
        "\n",
        "temp_pay.head()"
      ],
      "id": "68de7fed",
      "execution_count": 47,
      "outputs": [
        {
          "output_type": "execute_result",
          "data": {
            "text/html": [
              "<div>\n",
              "<style scoped>\n",
              "    .dataframe tbody tr th:only-of-type {\n",
              "        vertical-align: middle;\n",
              "    }\n",
              "\n",
              "    .dataframe tbody tr th {\n",
              "        vertical-align: top;\n",
              "    }\n",
              "\n",
              "    .dataframe thead th {\n",
              "        text-align: right;\n",
              "    }\n",
              "</style>\n",
              "<table border=\"1\" class=\"dataframe\">\n",
              "  <thead>\n",
              "    <tr style=\"text-align: right;\">\n",
              "      <th></th>\n",
              "      <th>merchant</th>\n",
              "      <th>year_quarter</th>\n",
              "      <th>amount_usd_in_cents_sum</th>\n",
              "      <th>amount_usd_in_cents_mean</th>\n",
              "      <th>amount_usd_in_cents_max</th>\n",
              "      <th>amount_usd_in_cents_min</th>\n",
              "      <th>amount_usd_in_cents_count</th>\n",
              "    </tr>\n",
              "  </thead>\n",
              "  <tbody>\n",
              "    <tr>\n",
              "      <th>0</th>\n",
              "      <td>000f8c3297</td>\n",
              "      <td>2033_3</td>\n",
              "      <td>22889</td>\n",
              "      <td>22889.000000</td>\n",
              "      <td>22889</td>\n",
              "      <td>22889</td>\n",
              "      <td>1</td>\n",
              "    </tr>\n",
              "    <tr>\n",
              "      <th>1</th>\n",
              "      <td>000f8c3297</td>\n",
              "      <td>2033_4</td>\n",
              "      <td>162190</td>\n",
              "      <td>10136.875000</td>\n",
              "      <td>23136</td>\n",
              "      <td>6108</td>\n",
              "      <td>16</td>\n",
              "    </tr>\n",
              "    <tr>\n",
              "      <th>2</th>\n",
              "      <td>000f8c3297</td>\n",
              "      <td>2034_1</td>\n",
              "      <td>457902</td>\n",
              "      <td>15789.724138</td>\n",
              "      <td>47255</td>\n",
              "      <td>3171</td>\n",
              "      <td>29</td>\n",
              "    </tr>\n",
              "    <tr>\n",
              "      <th>3</th>\n",
              "      <td>000f8c3297</td>\n",
              "      <td>2034_2</td>\n",
              "      <td>698974</td>\n",
              "      <td>9445.594595</td>\n",
              "      <td>34761</td>\n",
              "      <td>1981</td>\n",
              "      <td>74</td>\n",
              "    </tr>\n",
              "    <tr>\n",
              "      <th>4</th>\n",
              "      <td>000f8c3297</td>\n",
              "      <td>2034_3</td>\n",
              "      <td>788629</td>\n",
              "      <td>11597.485294</td>\n",
              "      <td>29570</td>\n",
              "      <td>3202</td>\n",
              "      <td>68</td>\n",
              "    </tr>\n",
              "  </tbody>\n",
              "</table>\n",
              "</div>"
            ],
            "text/plain": [
              "     merchant year_quarter  ...  amount_usd_in_cents_min  amount_usd_in_cents_count\n",
              "0  000f8c3297       2033_3  ...                    22889                          1\n",
              "1  000f8c3297       2033_4  ...                     6108                         16\n",
              "2  000f8c3297       2034_1  ...                     3171                         29\n",
              "3  000f8c3297       2034_2  ...                     1981                         74\n",
              "4  000f8c3297       2034_3  ...                     3202                         68\n",
              "\n",
              "[5 rows x 7 columns]"
            ]
          },
          "metadata": {},
          "execution_count": 47
        }
      ]
    },
    {
      "cell_type": "code",
      "metadata": {
        "id": "6c61dbc7"
      },
      "source": [
        "# rename the columns\n",
        "temp_pay.rename(columns={'amount_usd_in_cents_sum':'totalspending',\n",
        "                             'amount_usd_in_cents_mean':'avgspending',\n",
        "                             'amount_usd_in_cents_max':'maxspending',\n",
        "                             'amount_usd_in_cents_min':'minspending',\n",
        "                             'amount_usd_in_cents_count':'transactions',\n",
        "                       }, inplace=True)"
      ],
      "id": "6c61dbc7",
      "execution_count": 48,
      "outputs": []
    },
    {
      "cell_type": "code",
      "metadata": {
        "colab": {
          "base_uri": "https://localhost:8080/",
          "height": 205
        },
        "id": "369e5024",
        "outputId": "b5b7b331-5626-4a1a-d0d9-8368e89a137e"
      },
      "source": [
        "temp_pay.head()"
      ],
      "id": "369e5024",
      "execution_count": 49,
      "outputs": [
        {
          "output_type": "execute_result",
          "data": {
            "text/html": [
              "<div>\n",
              "<style scoped>\n",
              "    .dataframe tbody tr th:only-of-type {\n",
              "        vertical-align: middle;\n",
              "    }\n",
              "\n",
              "    .dataframe tbody tr th {\n",
              "        vertical-align: top;\n",
              "    }\n",
              "\n",
              "    .dataframe thead th {\n",
              "        text-align: right;\n",
              "    }\n",
              "</style>\n",
              "<table border=\"1\" class=\"dataframe\">\n",
              "  <thead>\n",
              "    <tr style=\"text-align: right;\">\n",
              "      <th></th>\n",
              "      <th>merchant</th>\n",
              "      <th>year_quarter</th>\n",
              "      <th>totalspending</th>\n",
              "      <th>avgspending</th>\n",
              "      <th>maxspending</th>\n",
              "      <th>minspending</th>\n",
              "      <th>transactions</th>\n",
              "    </tr>\n",
              "  </thead>\n",
              "  <tbody>\n",
              "    <tr>\n",
              "      <th>0</th>\n",
              "      <td>000f8c3297</td>\n",
              "      <td>2033_3</td>\n",
              "      <td>22889</td>\n",
              "      <td>22889.000000</td>\n",
              "      <td>22889</td>\n",
              "      <td>22889</td>\n",
              "      <td>1</td>\n",
              "    </tr>\n",
              "    <tr>\n",
              "      <th>1</th>\n",
              "      <td>000f8c3297</td>\n",
              "      <td>2033_4</td>\n",
              "      <td>162190</td>\n",
              "      <td>10136.875000</td>\n",
              "      <td>23136</td>\n",
              "      <td>6108</td>\n",
              "      <td>16</td>\n",
              "    </tr>\n",
              "    <tr>\n",
              "      <th>2</th>\n",
              "      <td>000f8c3297</td>\n",
              "      <td>2034_1</td>\n",
              "      <td>457902</td>\n",
              "      <td>15789.724138</td>\n",
              "      <td>47255</td>\n",
              "      <td>3171</td>\n",
              "      <td>29</td>\n",
              "    </tr>\n",
              "    <tr>\n",
              "      <th>3</th>\n",
              "      <td>000f8c3297</td>\n",
              "      <td>2034_2</td>\n",
              "      <td>698974</td>\n",
              "      <td>9445.594595</td>\n",
              "      <td>34761</td>\n",
              "      <td>1981</td>\n",
              "      <td>74</td>\n",
              "    </tr>\n",
              "    <tr>\n",
              "      <th>4</th>\n",
              "      <td>000f8c3297</td>\n",
              "      <td>2034_3</td>\n",
              "      <td>788629</td>\n",
              "      <td>11597.485294</td>\n",
              "      <td>29570</td>\n",
              "      <td>3202</td>\n",
              "      <td>68</td>\n",
              "    </tr>\n",
              "  </tbody>\n",
              "</table>\n",
              "</div>"
            ],
            "text/plain": [
              "     merchant year_quarter  ...  minspending  transactions\n",
              "0  000f8c3297       2033_3  ...        22889             1\n",
              "1  000f8c3297       2033_4  ...         6108            16\n",
              "2  000f8c3297       2034_1  ...         3171            29\n",
              "3  000f8c3297       2034_2  ...         1981            74\n",
              "4  000f8c3297       2034_3  ...         3202            68\n",
              "\n",
              "[5 rows x 7 columns]"
            ]
          },
          "metadata": {},
          "execution_count": 49
        }
      ]
    },
    {
      "cell_type": "markdown",
      "metadata": {
        "id": "d836d9a4"
      },
      "source": [
        "<font size=\"4\">\n",
        "These are the customers' quartly totalspending, avgspending, maxspending, minspending and numbers of transactions. <br>\n",
        "    \n",
        "Next we will join the rfm table so we have the target label \"churn\" column for ML prediction.</font>"
      ],
      "id": "d836d9a4"
    },
    {
      "cell_type": "code",
      "metadata": {
        "colab": {
          "base_uri": "https://localhost:8080/",
          "height": 380
        },
        "id": "a2846a70",
        "outputId": "10b7b45e-7fa9-46bd-ba20-ce2dc2cb0d53"
      },
      "source": [
        "# merge two dfs \n",
        "merged_pay = pd.merge(temp_pay, rfm, on = 'merchant', how= 'left')\n",
        "\n",
        "# check\n",
        "merged_pay.head(10)"
      ],
      "id": "a2846a70",
      "execution_count": 50,
      "outputs": [
        {
          "output_type": "execute_result",
          "data": {
            "text/html": [
              "<div>\n",
              "<style scoped>\n",
              "    .dataframe tbody tr th:only-of-type {\n",
              "        vertical-align: middle;\n",
              "    }\n",
              "\n",
              "    .dataframe tbody tr th {\n",
              "        vertical-align: top;\n",
              "    }\n",
              "\n",
              "    .dataframe thead th {\n",
              "        text-align: right;\n",
              "    }\n",
              "</style>\n",
              "<table border=\"1\" class=\"dataframe\">\n",
              "  <thead>\n",
              "    <tr style=\"text-align: right;\">\n",
              "      <th></th>\n",
              "      <th>merchant</th>\n",
              "      <th>year_quarter</th>\n",
              "      <th>totalspending</th>\n",
              "      <th>avgspending</th>\n",
              "      <th>maxspending</th>\n",
              "      <th>minspending</th>\n",
              "      <th>transactions</th>\n",
              "      <th>Recency</th>\n",
              "      <th>Frequency</th>\n",
              "      <th>Monetary</th>\n",
              "      <th>R</th>\n",
              "      <th>F</th>\n",
              "      <th>M</th>\n",
              "      <th>RFM_Segment_Concat</th>\n",
              "      <th>RFM_Score</th>\n",
              "      <th>RFM_Level</th>\n",
              "      <th>Churn</th>\n",
              "    </tr>\n",
              "  </thead>\n",
              "  <tbody>\n",
              "    <tr>\n",
              "      <th>0</th>\n",
              "      <td>000f8c3297</td>\n",
              "      <td>2033_3</td>\n",
              "      <td>22889</td>\n",
              "      <td>22889.000000</td>\n",
              "      <td>22889</td>\n",
              "      <td>22889</td>\n",
              "      <td>1</td>\n",
              "      <td>1</td>\n",
              "      <td>290</td>\n",
              "      <td>3455191</td>\n",
              "      <td>4</td>\n",
              "      <td>4</td>\n",
              "      <td>4</td>\n",
              "      <td>444</td>\n",
              "      <td>12</td>\n",
              "      <td>VIP</td>\n",
              "      <td>0</td>\n",
              "    </tr>\n",
              "    <tr>\n",
              "      <th>1</th>\n",
              "      <td>000f8c3297</td>\n",
              "      <td>2033_4</td>\n",
              "      <td>162190</td>\n",
              "      <td>10136.875000</td>\n",
              "      <td>23136</td>\n",
              "      <td>6108</td>\n",
              "      <td>16</td>\n",
              "      <td>1</td>\n",
              "      <td>290</td>\n",
              "      <td>3455191</td>\n",
              "      <td>4</td>\n",
              "      <td>4</td>\n",
              "      <td>4</td>\n",
              "      <td>444</td>\n",
              "      <td>12</td>\n",
              "      <td>VIP</td>\n",
              "      <td>0</td>\n",
              "    </tr>\n",
              "    <tr>\n",
              "      <th>2</th>\n",
              "      <td>000f8c3297</td>\n",
              "      <td>2034_1</td>\n",
              "      <td>457902</td>\n",
              "      <td>15789.724138</td>\n",
              "      <td>47255</td>\n",
              "      <td>3171</td>\n",
              "      <td>29</td>\n",
              "      <td>1</td>\n",
              "      <td>290</td>\n",
              "      <td>3455191</td>\n",
              "      <td>4</td>\n",
              "      <td>4</td>\n",
              "      <td>4</td>\n",
              "      <td>444</td>\n",
              "      <td>12</td>\n",
              "      <td>VIP</td>\n",
              "      <td>0</td>\n",
              "    </tr>\n",
              "    <tr>\n",
              "      <th>3</th>\n",
              "      <td>000f8c3297</td>\n",
              "      <td>2034_2</td>\n",
              "      <td>698974</td>\n",
              "      <td>9445.594595</td>\n",
              "      <td>34761</td>\n",
              "      <td>1981</td>\n",
              "      <td>74</td>\n",
              "      <td>1</td>\n",
              "      <td>290</td>\n",
              "      <td>3455191</td>\n",
              "      <td>4</td>\n",
              "      <td>4</td>\n",
              "      <td>4</td>\n",
              "      <td>444</td>\n",
              "      <td>12</td>\n",
              "      <td>VIP</td>\n",
              "      <td>0</td>\n",
              "    </tr>\n",
              "    <tr>\n",
              "      <th>4</th>\n",
              "      <td>000f8c3297</td>\n",
              "      <td>2034_3</td>\n",
              "      <td>788629</td>\n",
              "      <td>11597.485294</td>\n",
              "      <td>29570</td>\n",
              "      <td>3202</td>\n",
              "      <td>68</td>\n",
              "      <td>1</td>\n",
              "      <td>290</td>\n",
              "      <td>3455191</td>\n",
              "      <td>4</td>\n",
              "      <td>4</td>\n",
              "      <td>4</td>\n",
              "      <td>444</td>\n",
              "      <td>12</td>\n",
              "      <td>VIP</td>\n",
              "      <td>0</td>\n",
              "    </tr>\n",
              "    <tr>\n",
              "      <th>5</th>\n",
              "      <td>000f8c3297</td>\n",
              "      <td>2034_4</td>\n",
              "      <td>1324607</td>\n",
              "      <td>12986.343137</td>\n",
              "      <td>40279</td>\n",
              "      <td>2680</td>\n",
              "      <td>102</td>\n",
              "      <td>1</td>\n",
              "      <td>290</td>\n",
              "      <td>3455191</td>\n",
              "      <td>4</td>\n",
              "      <td>4</td>\n",
              "      <td>4</td>\n",
              "      <td>444</td>\n",
              "      <td>12</td>\n",
              "      <td>VIP</td>\n",
              "      <td>0</td>\n",
              "    </tr>\n",
              "    <tr>\n",
              "      <th>6</th>\n",
              "      <td>00575c7901</td>\n",
              "      <td>2034_1</td>\n",
              "      <td>4812180</td>\n",
              "      <td>6442.008032</td>\n",
              "      <td>100432</td>\n",
              "      <td>2229</td>\n",
              "      <td>747</td>\n",
              "      <td>1</td>\n",
              "      <td>9860</td>\n",
              "      <td>67935727</td>\n",
              "      <td>4</td>\n",
              "      <td>4</td>\n",
              "      <td>4</td>\n",
              "      <td>444</td>\n",
              "      <td>12</td>\n",
              "      <td>VIP</td>\n",
              "      <td>0</td>\n",
              "    </tr>\n",
              "    <tr>\n",
              "      <th>7</th>\n",
              "      <td>00575c7901</td>\n",
              "      <td>2034_2</td>\n",
              "      <td>8823983</td>\n",
              "      <td>6357.336455</td>\n",
              "      <td>45070</td>\n",
              "      <td>1880</td>\n",
              "      <td>1388</td>\n",
              "      <td>1</td>\n",
              "      <td>9860</td>\n",
              "      <td>67935727</td>\n",
              "      <td>4</td>\n",
              "      <td>4</td>\n",
              "      <td>4</td>\n",
              "      <td>444</td>\n",
              "      <td>12</td>\n",
              "      <td>VIP</td>\n",
              "      <td>0</td>\n",
              "    </tr>\n",
              "    <tr>\n",
              "      <th>8</th>\n",
              "      <td>00575c7901</td>\n",
              "      <td>2034_3</td>\n",
              "      <td>17919251</td>\n",
              "      <td>6844.633690</td>\n",
              "      <td>70904</td>\n",
              "      <td>1972</td>\n",
              "      <td>2618</td>\n",
              "      <td>1</td>\n",
              "      <td>9860</td>\n",
              "      <td>67935727</td>\n",
              "      <td>4</td>\n",
              "      <td>4</td>\n",
              "      <td>4</td>\n",
              "      <td>444</td>\n",
              "      <td>12</td>\n",
              "      <td>VIP</td>\n",
              "      <td>0</td>\n",
              "    </tr>\n",
              "    <tr>\n",
              "      <th>9</th>\n",
              "      <td>00575c7901</td>\n",
              "      <td>2034_4</td>\n",
              "      <td>36380313</td>\n",
              "      <td>7123.617192</td>\n",
              "      <td>243899</td>\n",
              "      <td>206</td>\n",
              "      <td>5107</td>\n",
              "      <td>1</td>\n",
              "      <td>9860</td>\n",
              "      <td>67935727</td>\n",
              "      <td>4</td>\n",
              "      <td>4</td>\n",
              "      <td>4</td>\n",
              "      <td>444</td>\n",
              "      <td>12</td>\n",
              "      <td>VIP</td>\n",
              "      <td>0</td>\n",
              "    </tr>\n",
              "  </tbody>\n",
              "</table>\n",
              "</div>"
            ],
            "text/plain": [
              "     merchant year_quarter  totalspending  ...  RFM_Score  RFM_Level  Churn\n",
              "0  000f8c3297       2033_3          22889  ...         12        VIP      0\n",
              "1  000f8c3297       2033_4         162190  ...         12        VIP      0\n",
              "2  000f8c3297       2034_1         457902  ...         12        VIP      0\n",
              "3  000f8c3297       2034_2         698974  ...         12        VIP      0\n",
              "4  000f8c3297       2034_3         788629  ...         12        VIP      0\n",
              "5  000f8c3297       2034_4        1324607  ...         12        VIP      0\n",
              "6  00575c7901       2034_1        4812180  ...         12        VIP      0\n",
              "7  00575c7901       2034_2        8823983  ...         12        VIP      0\n",
              "8  00575c7901       2034_3       17919251  ...         12        VIP      0\n",
              "9  00575c7901       2034_4       36380313  ...         12        VIP      0\n",
              "\n",
              "[10 rows x 17 columns]"
            ]
          },
          "metadata": {},
          "execution_count": 50
        }
      ]
    },
    {
      "cell_type": "markdown",
      "metadata": {
        "id": "1d21688b"
      },
      "source": [
        "<font size=\"4\">\n",
        "Looks good but all the RFM columns need to be deleted.</font>"
      ],
      "id": "1d21688b"
    },
    {
      "cell_type": "code",
      "metadata": {
        "colab": {
          "base_uri": "https://localhost:8080/",
          "height": 205
        },
        "id": "f24999b3",
        "outputId": "1a08bce3-f5e8-4802-da64-261e7ccdc6d4"
      },
      "source": [
        "# drop all rfm columns\n",
        "\n",
        "merged_pay.drop(['Recency','Frequency','Monetary','R','F','M','RFM_Segment_Concat','RFM_Score','RFM_Level'], \n",
        "                axis=1, inplace=True)\n",
        "\n",
        "# check\n",
        "merged_pay.head()"
      ],
      "id": "f24999b3",
      "execution_count": 51,
      "outputs": [
        {
          "output_type": "execute_result",
          "data": {
            "text/html": [
              "<div>\n",
              "<style scoped>\n",
              "    .dataframe tbody tr th:only-of-type {\n",
              "        vertical-align: middle;\n",
              "    }\n",
              "\n",
              "    .dataframe tbody tr th {\n",
              "        vertical-align: top;\n",
              "    }\n",
              "\n",
              "    .dataframe thead th {\n",
              "        text-align: right;\n",
              "    }\n",
              "</style>\n",
              "<table border=\"1\" class=\"dataframe\">\n",
              "  <thead>\n",
              "    <tr style=\"text-align: right;\">\n",
              "      <th></th>\n",
              "      <th>merchant</th>\n",
              "      <th>year_quarter</th>\n",
              "      <th>totalspending</th>\n",
              "      <th>avgspending</th>\n",
              "      <th>maxspending</th>\n",
              "      <th>minspending</th>\n",
              "      <th>transactions</th>\n",
              "      <th>Churn</th>\n",
              "    </tr>\n",
              "  </thead>\n",
              "  <tbody>\n",
              "    <tr>\n",
              "      <th>0</th>\n",
              "      <td>000f8c3297</td>\n",
              "      <td>2033_3</td>\n",
              "      <td>22889</td>\n",
              "      <td>22889.000000</td>\n",
              "      <td>22889</td>\n",
              "      <td>22889</td>\n",
              "      <td>1</td>\n",
              "      <td>0</td>\n",
              "    </tr>\n",
              "    <tr>\n",
              "      <th>1</th>\n",
              "      <td>000f8c3297</td>\n",
              "      <td>2033_4</td>\n",
              "      <td>162190</td>\n",
              "      <td>10136.875000</td>\n",
              "      <td>23136</td>\n",
              "      <td>6108</td>\n",
              "      <td>16</td>\n",
              "      <td>0</td>\n",
              "    </tr>\n",
              "    <tr>\n",
              "      <th>2</th>\n",
              "      <td>000f8c3297</td>\n",
              "      <td>2034_1</td>\n",
              "      <td>457902</td>\n",
              "      <td>15789.724138</td>\n",
              "      <td>47255</td>\n",
              "      <td>3171</td>\n",
              "      <td>29</td>\n",
              "      <td>0</td>\n",
              "    </tr>\n",
              "    <tr>\n",
              "      <th>3</th>\n",
              "      <td>000f8c3297</td>\n",
              "      <td>2034_2</td>\n",
              "      <td>698974</td>\n",
              "      <td>9445.594595</td>\n",
              "      <td>34761</td>\n",
              "      <td>1981</td>\n",
              "      <td>74</td>\n",
              "      <td>0</td>\n",
              "    </tr>\n",
              "    <tr>\n",
              "      <th>4</th>\n",
              "      <td>000f8c3297</td>\n",
              "      <td>2034_3</td>\n",
              "      <td>788629</td>\n",
              "      <td>11597.485294</td>\n",
              "      <td>29570</td>\n",
              "      <td>3202</td>\n",
              "      <td>68</td>\n",
              "      <td>0</td>\n",
              "    </tr>\n",
              "  </tbody>\n",
              "</table>\n",
              "</div>"
            ],
            "text/plain": [
              "     merchant year_quarter  totalspending  ...  minspending  transactions  Churn\n",
              "0  000f8c3297       2033_3          22889  ...        22889             1      0\n",
              "1  000f8c3297       2033_4         162190  ...         6108            16      0\n",
              "2  000f8c3297       2034_1         457902  ...         3171            29      0\n",
              "3  000f8c3297       2034_2         698974  ...         1981            74      0\n",
              "4  000f8c3297       2034_3         788629  ...         3202            68      0\n",
              "\n",
              "[5 rows x 8 columns]"
            ]
          },
          "metadata": {},
          "execution_count": 51
        }
      ]
    },
    {
      "cell_type": "markdown",
      "metadata": {
        "id": "15278e1a"
      },
      "source": [
        "<font size=\"4\">\n",
        "One last step, maybe it's a good idea to add quarterly spending growth or decline rate for each customer. That's the totalspending change (either increase or decrease) for each quarter for each customer.</font>"
      ],
      "id": "15278e1a"
    },
    {
      "cell_type": "code",
      "metadata": {
        "colab": {
          "base_uri": "https://localhost:8080/",
          "height": 360
        },
        "id": "9379707a",
        "outputId": "dbea2bf3-7cd7-49e2-d077-211845d200b8"
      },
      "source": [
        "# add additional columns of pct_change quarter over quarter\n",
        "merged_pay['pct_qoq']=merged_pay.sort_values('year_quarter').groupby(['merchant']).totalspending.pct_change()\n",
        "\n",
        "# check\n",
        "merged_pay.head(10)"
      ],
      "id": "9379707a",
      "execution_count": 52,
      "outputs": [
        {
          "output_type": "execute_result",
          "data": {
            "text/html": [
              "<div>\n",
              "<style scoped>\n",
              "    .dataframe tbody tr th:only-of-type {\n",
              "        vertical-align: middle;\n",
              "    }\n",
              "\n",
              "    .dataframe tbody tr th {\n",
              "        vertical-align: top;\n",
              "    }\n",
              "\n",
              "    .dataframe thead th {\n",
              "        text-align: right;\n",
              "    }\n",
              "</style>\n",
              "<table border=\"1\" class=\"dataframe\">\n",
              "  <thead>\n",
              "    <tr style=\"text-align: right;\">\n",
              "      <th></th>\n",
              "      <th>merchant</th>\n",
              "      <th>year_quarter</th>\n",
              "      <th>totalspending</th>\n",
              "      <th>avgspending</th>\n",
              "      <th>maxspending</th>\n",
              "      <th>minspending</th>\n",
              "      <th>transactions</th>\n",
              "      <th>Churn</th>\n",
              "      <th>pct_qoq</th>\n",
              "    </tr>\n",
              "  </thead>\n",
              "  <tbody>\n",
              "    <tr>\n",
              "      <th>0</th>\n",
              "      <td>000f8c3297</td>\n",
              "      <td>2033_3</td>\n",
              "      <td>22889</td>\n",
              "      <td>22889.000000</td>\n",
              "      <td>22889</td>\n",
              "      <td>22889</td>\n",
              "      <td>1</td>\n",
              "      <td>0</td>\n",
              "      <td>NaN</td>\n",
              "    </tr>\n",
              "    <tr>\n",
              "      <th>1</th>\n",
              "      <td>000f8c3297</td>\n",
              "      <td>2033_4</td>\n",
              "      <td>162190</td>\n",
              "      <td>10136.875000</td>\n",
              "      <td>23136</td>\n",
              "      <td>6108</td>\n",
              "      <td>16</td>\n",
              "      <td>0</td>\n",
              "      <td>6.085936</td>\n",
              "    </tr>\n",
              "    <tr>\n",
              "      <th>2</th>\n",
              "      <td>000f8c3297</td>\n",
              "      <td>2034_1</td>\n",
              "      <td>457902</td>\n",
              "      <td>15789.724138</td>\n",
              "      <td>47255</td>\n",
              "      <td>3171</td>\n",
              "      <td>29</td>\n",
              "      <td>0</td>\n",
              "      <td>1.823244</td>\n",
              "    </tr>\n",
              "    <tr>\n",
              "      <th>3</th>\n",
              "      <td>000f8c3297</td>\n",
              "      <td>2034_2</td>\n",
              "      <td>698974</td>\n",
              "      <td>9445.594595</td>\n",
              "      <td>34761</td>\n",
              "      <td>1981</td>\n",
              "      <td>74</td>\n",
              "      <td>0</td>\n",
              "      <td>0.526471</td>\n",
              "    </tr>\n",
              "    <tr>\n",
              "      <th>4</th>\n",
              "      <td>000f8c3297</td>\n",
              "      <td>2034_3</td>\n",
              "      <td>788629</td>\n",
              "      <td>11597.485294</td>\n",
              "      <td>29570</td>\n",
              "      <td>3202</td>\n",
              "      <td>68</td>\n",
              "      <td>0</td>\n",
              "      <td>0.128267</td>\n",
              "    </tr>\n",
              "    <tr>\n",
              "      <th>5</th>\n",
              "      <td>000f8c3297</td>\n",
              "      <td>2034_4</td>\n",
              "      <td>1324607</td>\n",
              "      <td>12986.343137</td>\n",
              "      <td>40279</td>\n",
              "      <td>2680</td>\n",
              "      <td>102</td>\n",
              "      <td>0</td>\n",
              "      <td>0.679633</td>\n",
              "    </tr>\n",
              "    <tr>\n",
              "      <th>6</th>\n",
              "      <td>00575c7901</td>\n",
              "      <td>2034_1</td>\n",
              "      <td>4812180</td>\n",
              "      <td>6442.008032</td>\n",
              "      <td>100432</td>\n",
              "      <td>2229</td>\n",
              "      <td>747</td>\n",
              "      <td>0</td>\n",
              "      <td>NaN</td>\n",
              "    </tr>\n",
              "    <tr>\n",
              "      <th>7</th>\n",
              "      <td>00575c7901</td>\n",
              "      <td>2034_2</td>\n",
              "      <td>8823983</td>\n",
              "      <td>6357.336455</td>\n",
              "      <td>45070</td>\n",
              "      <td>1880</td>\n",
              "      <td>1388</td>\n",
              "      <td>0</td>\n",
              "      <td>0.833677</td>\n",
              "    </tr>\n",
              "    <tr>\n",
              "      <th>8</th>\n",
              "      <td>00575c7901</td>\n",
              "      <td>2034_3</td>\n",
              "      <td>17919251</td>\n",
              "      <td>6844.633690</td>\n",
              "      <td>70904</td>\n",
              "      <td>1972</td>\n",
              "      <td>2618</td>\n",
              "      <td>0</td>\n",
              "      <td>1.030744</td>\n",
              "    </tr>\n",
              "    <tr>\n",
              "      <th>9</th>\n",
              "      <td>00575c7901</td>\n",
              "      <td>2034_4</td>\n",
              "      <td>36380313</td>\n",
              "      <td>7123.617192</td>\n",
              "      <td>243899</td>\n",
              "      <td>206</td>\n",
              "      <td>5107</td>\n",
              "      <td>0</td>\n",
              "      <td>1.030236</td>\n",
              "    </tr>\n",
              "  </tbody>\n",
              "</table>\n",
              "</div>"
            ],
            "text/plain": [
              "     merchant year_quarter  totalspending  ...  transactions  Churn   pct_qoq\n",
              "0  000f8c3297       2033_3          22889  ...             1      0       NaN\n",
              "1  000f8c3297       2033_4         162190  ...            16      0  6.085936\n",
              "2  000f8c3297       2034_1         457902  ...            29      0  1.823244\n",
              "3  000f8c3297       2034_2         698974  ...            74      0  0.526471\n",
              "4  000f8c3297       2034_3         788629  ...            68      0  0.128267\n",
              "5  000f8c3297       2034_4        1324607  ...           102      0  0.679633\n",
              "6  00575c7901       2034_1        4812180  ...           747      0       NaN\n",
              "7  00575c7901       2034_2        8823983  ...          1388      0  0.833677\n",
              "8  00575c7901       2034_3       17919251  ...          2618      0  1.030744\n",
              "9  00575c7901       2034_4       36380313  ...          5107      0  1.030236\n",
              "\n",
              "[10 rows x 9 columns]"
            ]
          },
          "metadata": {},
          "execution_count": 52
        }
      ]
    },
    {
      "cell_type": "code",
      "metadata": {
        "colab": {
          "base_uri": "https://localhost:8080/",
          "height": 672
        },
        "id": "9757d5bc",
        "outputId": "9b44152d-1c13-433a-9ffb-741159e562de"
      },
      "source": [
        "# first record of each customer will be NaN so need to be dropped\n",
        "df=merged_pay.dropna()\n",
        "\n",
        "# check\n",
        "df.head(20)"
      ],
      "id": "9757d5bc",
      "execution_count": 53,
      "outputs": [
        {
          "output_type": "execute_result",
          "data": {
            "text/html": [
              "<div>\n",
              "<style scoped>\n",
              "    .dataframe tbody tr th:only-of-type {\n",
              "        vertical-align: middle;\n",
              "    }\n",
              "\n",
              "    .dataframe tbody tr th {\n",
              "        vertical-align: top;\n",
              "    }\n",
              "\n",
              "    .dataframe thead th {\n",
              "        text-align: right;\n",
              "    }\n",
              "</style>\n",
              "<table border=\"1\" class=\"dataframe\">\n",
              "  <thead>\n",
              "    <tr style=\"text-align: right;\">\n",
              "      <th></th>\n",
              "      <th>merchant</th>\n",
              "      <th>year_quarter</th>\n",
              "      <th>totalspending</th>\n",
              "      <th>avgspending</th>\n",
              "      <th>maxspending</th>\n",
              "      <th>minspending</th>\n",
              "      <th>transactions</th>\n",
              "      <th>Churn</th>\n",
              "      <th>pct_qoq</th>\n",
              "    </tr>\n",
              "  </thead>\n",
              "  <tbody>\n",
              "    <tr>\n",
              "      <th>1</th>\n",
              "      <td>000f8c3297</td>\n",
              "      <td>2033_4</td>\n",
              "      <td>162190</td>\n",
              "      <td>10136.875000</td>\n",
              "      <td>23136</td>\n",
              "      <td>6108</td>\n",
              "      <td>16</td>\n",
              "      <td>0</td>\n",
              "      <td>6.085936</td>\n",
              "    </tr>\n",
              "    <tr>\n",
              "      <th>2</th>\n",
              "      <td>000f8c3297</td>\n",
              "      <td>2034_1</td>\n",
              "      <td>457902</td>\n",
              "      <td>15789.724138</td>\n",
              "      <td>47255</td>\n",
              "      <td>3171</td>\n",
              "      <td>29</td>\n",
              "      <td>0</td>\n",
              "      <td>1.823244</td>\n",
              "    </tr>\n",
              "    <tr>\n",
              "      <th>3</th>\n",
              "      <td>000f8c3297</td>\n",
              "      <td>2034_2</td>\n",
              "      <td>698974</td>\n",
              "      <td>9445.594595</td>\n",
              "      <td>34761</td>\n",
              "      <td>1981</td>\n",
              "      <td>74</td>\n",
              "      <td>0</td>\n",
              "      <td>0.526471</td>\n",
              "    </tr>\n",
              "    <tr>\n",
              "      <th>4</th>\n",
              "      <td>000f8c3297</td>\n",
              "      <td>2034_3</td>\n",
              "      <td>788629</td>\n",
              "      <td>11597.485294</td>\n",
              "      <td>29570</td>\n",
              "      <td>3202</td>\n",
              "      <td>68</td>\n",
              "      <td>0</td>\n",
              "      <td>0.128267</td>\n",
              "    </tr>\n",
              "    <tr>\n",
              "      <th>5</th>\n",
              "      <td>000f8c3297</td>\n",
              "      <td>2034_4</td>\n",
              "      <td>1324607</td>\n",
              "      <td>12986.343137</td>\n",
              "      <td>40279</td>\n",
              "      <td>2680</td>\n",
              "      <td>102</td>\n",
              "      <td>0</td>\n",
              "      <td>0.679633</td>\n",
              "    </tr>\n",
              "    <tr>\n",
              "      <th>7</th>\n",
              "      <td>00575c7901</td>\n",
              "      <td>2034_2</td>\n",
              "      <td>8823983</td>\n",
              "      <td>6357.336455</td>\n",
              "      <td>45070</td>\n",
              "      <td>1880</td>\n",
              "      <td>1388</td>\n",
              "      <td>0</td>\n",
              "      <td>0.833677</td>\n",
              "    </tr>\n",
              "    <tr>\n",
              "      <th>8</th>\n",
              "      <td>00575c7901</td>\n",
              "      <td>2034_3</td>\n",
              "      <td>17919251</td>\n",
              "      <td>6844.633690</td>\n",
              "      <td>70904</td>\n",
              "      <td>1972</td>\n",
              "      <td>2618</td>\n",
              "      <td>0</td>\n",
              "      <td>1.030744</td>\n",
              "    </tr>\n",
              "    <tr>\n",
              "      <th>9</th>\n",
              "      <td>00575c7901</td>\n",
              "      <td>2034_4</td>\n",
              "      <td>36380313</td>\n",
              "      <td>7123.617192</td>\n",
              "      <td>243899</td>\n",
              "      <td>206</td>\n",
              "      <td>5107</td>\n",
              "      <td>0</td>\n",
              "      <td>1.030236</td>\n",
              "    </tr>\n",
              "    <tr>\n",
              "      <th>12</th>\n",
              "      <td>0063ff0c6b</td>\n",
              "      <td>2034_2</td>\n",
              "      <td>249069</td>\n",
              "      <td>249069.000000</td>\n",
              "      <td>249069</td>\n",
              "      <td>249069</td>\n",
              "      <td>1</td>\n",
              "      <td>0</td>\n",
              "      <td>3.918910</td>\n",
              "    </tr>\n",
              "    <tr>\n",
              "      <th>13</th>\n",
              "      <td>0063ff0c6b</td>\n",
              "      <td>2034_3</td>\n",
              "      <td>774319</td>\n",
              "      <td>32263.291667</td>\n",
              "      <td>234103</td>\n",
              "      <td>557</td>\n",
              "      <td>24</td>\n",
              "      <td>0</td>\n",
              "      <td>2.108853</td>\n",
              "    </tr>\n",
              "    <tr>\n",
              "      <th>14</th>\n",
              "      <td>0063ff0c6b</td>\n",
              "      <td>2034_4</td>\n",
              "      <td>22151</td>\n",
              "      <td>22151.000000</td>\n",
              "      <td>22151</td>\n",
              "      <td>22151</td>\n",
              "      <td>1</td>\n",
              "      <td>0</td>\n",
              "      <td>-0.971393</td>\n",
              "    </tr>\n",
              "    <tr>\n",
              "      <th>16</th>\n",
              "      <td>007364b02a</td>\n",
              "      <td>2033_2</td>\n",
              "      <td>20486</td>\n",
              "      <td>20486.000000</td>\n",
              "      <td>20486</td>\n",
              "      <td>20486</td>\n",
              "      <td>1</td>\n",
              "      <td>1</td>\n",
              "      <td>0.014309</td>\n",
              "    </tr>\n",
              "    <tr>\n",
              "      <th>17</th>\n",
              "      <td>007364b02a</td>\n",
              "      <td>2033_4</td>\n",
              "      <td>20197</td>\n",
              "      <td>20197.000000</td>\n",
              "      <td>20197</td>\n",
              "      <td>20197</td>\n",
              "      <td>1</td>\n",
              "      <td>1</td>\n",
              "      <td>-0.014107</td>\n",
              "    </tr>\n",
              "    <tr>\n",
              "      <th>19</th>\n",
              "      <td>008c7ea5b2</td>\n",
              "      <td>2034_2</td>\n",
              "      <td>50445</td>\n",
              "      <td>8407.500000</td>\n",
              "      <td>11562</td>\n",
              "      <td>5109</td>\n",
              "      <td>6</td>\n",
              "      <td>0</td>\n",
              "      <td>-0.067181</td>\n",
              "    </tr>\n",
              "    <tr>\n",
              "      <th>20</th>\n",
              "      <td>008c7ea5b2</td>\n",
              "      <td>2034_3</td>\n",
              "      <td>195162</td>\n",
              "      <td>9293.428571</td>\n",
              "      <td>39719</td>\n",
              "      <td>868</td>\n",
              "      <td>21</td>\n",
              "      <td>0</td>\n",
              "      <td>2.868808</td>\n",
              "    </tr>\n",
              "    <tr>\n",
              "      <th>21</th>\n",
              "      <td>008c7ea5b2</td>\n",
              "      <td>2034_4</td>\n",
              "      <td>162292</td>\n",
              "      <td>11592.285714</td>\n",
              "      <td>29751</td>\n",
              "      <td>4009</td>\n",
              "      <td>14</td>\n",
              "      <td>0</td>\n",
              "      <td>-0.168424</td>\n",
              "    </tr>\n",
              "    <tr>\n",
              "      <th>23</th>\n",
              "      <td>009a02a426</td>\n",
              "      <td>2034_4</td>\n",
              "      <td>238630</td>\n",
              "      <td>4186.491228</td>\n",
              "      <td>9120</td>\n",
              "      <td>2460</td>\n",
              "      <td>57</td>\n",
              "      <td>0</td>\n",
              "      <td>1.255248</td>\n",
              "    </tr>\n",
              "    <tr>\n",
              "      <th>25</th>\n",
              "      <td>00a6d31535</td>\n",
              "      <td>2033_2</td>\n",
              "      <td>412020</td>\n",
              "      <td>11772.000000</td>\n",
              "      <td>77473</td>\n",
              "      <td>1583</td>\n",
              "      <td>35</td>\n",
              "      <td>0</td>\n",
              "      <td>0.071671</td>\n",
              "    </tr>\n",
              "    <tr>\n",
              "      <th>26</th>\n",
              "      <td>00a6d31535</td>\n",
              "      <td>2033_3</td>\n",
              "      <td>531977</td>\n",
              "      <td>9172.017241</td>\n",
              "      <td>49907</td>\n",
              "      <td>1908</td>\n",
              "      <td>58</td>\n",
              "      <td>0</td>\n",
              "      <td>0.291144</td>\n",
              "    </tr>\n",
              "    <tr>\n",
              "      <th>27</th>\n",
              "      <td>00a6d31535</td>\n",
              "      <td>2033_4</td>\n",
              "      <td>1557889</td>\n",
              "      <td>18998.646341</td>\n",
              "      <td>299086</td>\n",
              "      <td>2510</td>\n",
              "      <td>82</td>\n",
              "      <td>0</td>\n",
              "      <td>1.928489</td>\n",
              "    </tr>\n",
              "  </tbody>\n",
              "</table>\n",
              "</div>"
            ],
            "text/plain": [
              "      merchant year_quarter  totalspending  ...  transactions  Churn   pct_qoq\n",
              "1   000f8c3297       2033_4         162190  ...            16      0  6.085936\n",
              "2   000f8c3297       2034_1         457902  ...            29      0  1.823244\n",
              "3   000f8c3297       2034_2         698974  ...            74      0  0.526471\n",
              "4   000f8c3297       2034_3         788629  ...            68      0  0.128267\n",
              "5   000f8c3297       2034_4        1324607  ...           102      0  0.679633\n",
              "7   00575c7901       2034_2        8823983  ...          1388      0  0.833677\n",
              "8   00575c7901       2034_3       17919251  ...          2618      0  1.030744\n",
              "9   00575c7901       2034_4       36380313  ...          5107      0  1.030236\n",
              "12  0063ff0c6b       2034_2         249069  ...             1      0  3.918910\n",
              "13  0063ff0c6b       2034_3         774319  ...            24      0  2.108853\n",
              "14  0063ff0c6b       2034_4          22151  ...             1      0 -0.971393\n",
              "16  007364b02a       2033_2          20486  ...             1      1  0.014309\n",
              "17  007364b02a       2033_4          20197  ...             1      1 -0.014107\n",
              "19  008c7ea5b2       2034_2          50445  ...             6      0 -0.067181\n",
              "20  008c7ea5b2       2034_3         195162  ...            21      0  2.868808\n",
              "21  008c7ea5b2       2034_4         162292  ...            14      0 -0.168424\n",
              "23  009a02a426       2034_4         238630  ...            57      0  1.255248\n",
              "25  00a6d31535       2033_2         412020  ...            35      0  0.071671\n",
              "26  00a6d31535       2033_3         531977  ...            58      0  0.291144\n",
              "27  00a6d31535       2033_4        1557889  ...            82      0  1.928489\n",
              "\n",
              "[20 rows x 9 columns]"
            ]
          },
          "metadata": {},
          "execution_count": 53
        }
      ]
    },
    {
      "cell_type": "markdown",
      "metadata": {
        "id": "3c0b0260"
      },
      "source": [
        "<font size=\"4\">\n",
        "Almost done. Final touch on data preprocessing/feature engineering. Drop some columns and re-arrange the order of columns.</font>"
      ],
      "id": "3c0b0260"
    },
    {
      "cell_type": "code",
      "metadata": {
        "colab": {
          "base_uri": "https://localhost:8080/",
          "height": 360
        },
        "id": "5153406c",
        "outputId": "5bdbd6b2-a91e-4745-c77e-e3b6ca78acd1"
      },
      "source": [
        "# drop merchant and year_quarter columns as they are not useful for model\n",
        "df.drop(['merchant','year_quarter'],axis=1, inplace=True)\n",
        "\n",
        "# re-arrange the columns\n",
        "old_cols = df.columns.values\n",
        "new_cols = ['totalspending','avgspending','maxspending','minspending','transactions','pct_qoq','Churn']\n",
        "df=df.reindex(columns=new_cols)\n",
        "\n",
        "# check\n",
        "df.head(10)"
      ],
      "id": "5153406c",
      "execution_count": 54,
      "outputs": [
        {
          "output_type": "execute_result",
          "data": {
            "text/html": [
              "<div>\n",
              "<style scoped>\n",
              "    .dataframe tbody tr th:only-of-type {\n",
              "        vertical-align: middle;\n",
              "    }\n",
              "\n",
              "    .dataframe tbody tr th {\n",
              "        vertical-align: top;\n",
              "    }\n",
              "\n",
              "    .dataframe thead th {\n",
              "        text-align: right;\n",
              "    }\n",
              "</style>\n",
              "<table border=\"1\" class=\"dataframe\">\n",
              "  <thead>\n",
              "    <tr style=\"text-align: right;\">\n",
              "      <th></th>\n",
              "      <th>totalspending</th>\n",
              "      <th>avgspending</th>\n",
              "      <th>maxspending</th>\n",
              "      <th>minspending</th>\n",
              "      <th>transactions</th>\n",
              "      <th>pct_qoq</th>\n",
              "      <th>Churn</th>\n",
              "    </tr>\n",
              "  </thead>\n",
              "  <tbody>\n",
              "    <tr>\n",
              "      <th>1</th>\n",
              "      <td>162190</td>\n",
              "      <td>10136.875000</td>\n",
              "      <td>23136</td>\n",
              "      <td>6108</td>\n",
              "      <td>16</td>\n",
              "      <td>6.085936</td>\n",
              "      <td>0</td>\n",
              "    </tr>\n",
              "    <tr>\n",
              "      <th>2</th>\n",
              "      <td>457902</td>\n",
              "      <td>15789.724138</td>\n",
              "      <td>47255</td>\n",
              "      <td>3171</td>\n",
              "      <td>29</td>\n",
              "      <td>1.823244</td>\n",
              "      <td>0</td>\n",
              "    </tr>\n",
              "    <tr>\n",
              "      <th>3</th>\n",
              "      <td>698974</td>\n",
              "      <td>9445.594595</td>\n",
              "      <td>34761</td>\n",
              "      <td>1981</td>\n",
              "      <td>74</td>\n",
              "      <td>0.526471</td>\n",
              "      <td>0</td>\n",
              "    </tr>\n",
              "    <tr>\n",
              "      <th>4</th>\n",
              "      <td>788629</td>\n",
              "      <td>11597.485294</td>\n",
              "      <td>29570</td>\n",
              "      <td>3202</td>\n",
              "      <td>68</td>\n",
              "      <td>0.128267</td>\n",
              "      <td>0</td>\n",
              "    </tr>\n",
              "    <tr>\n",
              "      <th>5</th>\n",
              "      <td>1324607</td>\n",
              "      <td>12986.343137</td>\n",
              "      <td>40279</td>\n",
              "      <td>2680</td>\n",
              "      <td>102</td>\n",
              "      <td>0.679633</td>\n",
              "      <td>0</td>\n",
              "    </tr>\n",
              "    <tr>\n",
              "      <th>7</th>\n",
              "      <td>8823983</td>\n",
              "      <td>6357.336455</td>\n",
              "      <td>45070</td>\n",
              "      <td>1880</td>\n",
              "      <td>1388</td>\n",
              "      <td>0.833677</td>\n",
              "      <td>0</td>\n",
              "    </tr>\n",
              "    <tr>\n",
              "      <th>8</th>\n",
              "      <td>17919251</td>\n",
              "      <td>6844.633690</td>\n",
              "      <td>70904</td>\n",
              "      <td>1972</td>\n",
              "      <td>2618</td>\n",
              "      <td>1.030744</td>\n",
              "      <td>0</td>\n",
              "    </tr>\n",
              "    <tr>\n",
              "      <th>9</th>\n",
              "      <td>36380313</td>\n",
              "      <td>7123.617192</td>\n",
              "      <td>243899</td>\n",
              "      <td>206</td>\n",
              "      <td>5107</td>\n",
              "      <td>1.030236</td>\n",
              "      <td>0</td>\n",
              "    </tr>\n",
              "    <tr>\n",
              "      <th>12</th>\n",
              "      <td>249069</td>\n",
              "      <td>249069.000000</td>\n",
              "      <td>249069</td>\n",
              "      <td>249069</td>\n",
              "      <td>1</td>\n",
              "      <td>3.918910</td>\n",
              "      <td>0</td>\n",
              "    </tr>\n",
              "    <tr>\n",
              "      <th>13</th>\n",
              "      <td>774319</td>\n",
              "      <td>32263.291667</td>\n",
              "      <td>234103</td>\n",
              "      <td>557</td>\n",
              "      <td>24</td>\n",
              "      <td>2.108853</td>\n",
              "      <td>0</td>\n",
              "    </tr>\n",
              "  </tbody>\n",
              "</table>\n",
              "</div>"
            ],
            "text/plain": [
              "    totalspending    avgspending  maxspending  ...  transactions   pct_qoq  Churn\n",
              "1          162190   10136.875000        23136  ...            16  6.085936      0\n",
              "2          457902   15789.724138        47255  ...            29  1.823244      0\n",
              "3          698974    9445.594595        34761  ...            74  0.526471      0\n",
              "4          788629   11597.485294        29570  ...            68  0.128267      0\n",
              "5         1324607   12986.343137        40279  ...           102  0.679633      0\n",
              "7         8823983    6357.336455        45070  ...          1388  0.833677      0\n",
              "8        17919251    6844.633690        70904  ...          2618  1.030744      0\n",
              "9        36380313    7123.617192       243899  ...          5107  1.030236      0\n",
              "12         249069  249069.000000       249069  ...             1  3.918910      0\n",
              "13         774319   32263.291667       234103  ...            24  2.108853      0\n",
              "\n",
              "[10 rows x 7 columns]"
            ]
          },
          "metadata": {},
          "execution_count": 54
        }
      ]
    },
    {
      "cell_type": "markdown",
      "metadata": {
        "id": "e33fed72"
      },
      "source": [
        "### 4.3 Data Visulization"
      ],
      "id": "e33fed72"
    },
    {
      "cell_type": "code",
      "metadata": {
        "colab": {
          "base_uri": "https://localhost:8080/",
          "height": 700
        },
        "id": "9df45a3b",
        "outputId": "74d00ec8-fd61-4826-c1c8-10cadedf717b"
      },
      "source": [
        "# data visulization to better understand our processed data\n",
        "\n",
        "fig, axes = plt.subplots(2, 3, figsize=(20, 10))\n",
        "fig.suptitle('Churn Charts')\n",
        "\n",
        "# totalspending\n",
        "sns.boxplot(ax=axes[0,0], x='Churn', y='totalspending', data=merged_pay, sym=\"\",)\n",
        "axes[0,0].set_title('totalspending')\n",
        "\n",
        "# avgspending\n",
        "sns.boxplot(ax=axes[0,1], x='Churn', y='avgspending', data=merged_pay, sym=\"\",)\n",
        "axes[0,1].set_title('avgspending')\n",
        "\n",
        "# maxspending\n",
        "sns.boxplot(ax=axes[0,2], x='Churn', y='maxspending', data=merged_pay, sym=\"\",)\n",
        "axes[0,2].set_title('maxspending')\n",
        "\n",
        "# minspending\n",
        "sns.boxplot(ax=axes[1,0], x='Churn', y='minspending', data=merged_pay, sym=\"\",)\n",
        "axes[1,0].set_title('minspending')\n",
        "\n",
        "# num of transactions\n",
        "sns.boxplot(ax=axes[1,1], x='Churn', y='transactions', data=merged_pay, sym=\"\",)\n",
        "axes[1,1].set_title('transactions')\n",
        "\n",
        "# churn vs no churn\n",
        "sns.countplot(x='Churn', data=df)"
      ],
      "id": "9df45a3b",
      "execution_count": 55,
      "outputs": [
        {
          "output_type": "execute_result",
          "data": {
            "text/plain": [
              "<matplotlib.axes._subplots.AxesSubplot at 0x7f914670cc50>"
            ]
          },
          "metadata": {},
          "execution_count": 55
        },
        {
          "output_type": "display_data",
          "data": {
            "image/png": "[encoded data removed]",
            "text/plain": [
              "<Figure size 1440x720 with 6 Axes>"
            ]
          },
          "metadata": {
            "needs_background": "light"
          }
        }
      ]
    },
    {
      "cell_type": "markdown",
      "metadata": {
        "id": "97cafc7e"
      },
      "source": [
        "<font size=\"4\">\n",
        "It's interesting to see some different spending behavior between churn vs no churn groups. The biggest issue is we have a highly imbalanced dataset! This problem needs to be taken care of it otherwise it may impact the performance of our ML models.</font>"
      ],
      "id": "97cafc7e"
    },
    {
      "cell_type": "markdown",
      "metadata": {
        "id": "193602c9"
      },
      "source": [
        "### 4.4 Handle Imbalanced Data"
      ],
      "id": "193602c9"
    },
    {
      "cell_type": "markdown",
      "metadata": {
        "id": "28677682"
      },
      "source": [
        "<font size=\"4\">\n",
        "We will use SMOTE+ENN to handle the imbalanced data. Basically use SMOTE (Synthetic Minority Oversampling) to oversample the minority group (churn) and use ENN(Edited Nearest Neighbour) to undersample the majority group (non churn). More info can be found in reference#3.\n",
        "</font>"
      ],
      "id": "28677682"
    },
    {
      "cell_type": "code",
      "metadata": {
        "colab": {
          "base_uri": "https://localhost:8080/"
        },
        "id": "fd73f67a",
        "outputId": "12d39a33-9593-4adb-ae36-cc19c444a9f4"
      },
      "source": [
        "# assign x (features) and y (target)\n",
        "x=df.iloc[:,:6].values\n",
        "y=df.iloc[:,6].values\n",
        "\n",
        "# apply SMOTE and ENN\n",
        "from imblearn.combine import SMOTEENN\n",
        "smt = SMOTEENN(random_state=42)\n",
        "x1, y1 = smt.fit_resample(x, y)\n",
        "\n",
        "# check if the dataset is balanced now\n",
        "from collections import Counter\n",
        "counter = Counter(y1)\n",
        "print(counter)"
      ],
      "id": "fd73f67a",
      "execution_count": 56,
      "outputs": [
        {
          "output_type": "stream",
          "name": "stdout",
          "text": [
            "Counter({1: 5784, 0: 5352})\n"
          ]
        }
      ]
    },
    {
      "cell_type": "markdown",
      "metadata": {
        "id": "75210ae5"
      },
      "source": [
        "<font size=\"4\">\n",
        "Yes, the dataset is much balanced now. Churn group - 5784; Non-churn group - 5352. \n",
        "</font>"
      ],
      "id": "75210ae5"
    },
    {
      "cell_type": "markdown",
      "metadata": {
        "id": "4bf14352"
      },
      "source": [
        "### 4.5 Machine Learning Models "
      ],
      "id": "4bf14352"
    },
    {
      "cell_type": "markdown",
      "metadata": {
        "id": "27e5f6c8"
      },
      "source": [
        "<font size=\"4\">\n",
        "We have spent a lot time on feature engineering and data pre-processing. Finally we are ready to plug in our data to different machine learning models. Sklearn offers many powerful classification models and we will try a bunch of them.\n",
        "</font>"
      ],
      "id": "27e5f6c8"
    },
    {
      "cell_type": "code",
      "metadata": {
        "id": "445efd62"
      },
      "source": [
        "# splitting data into training and testing\n",
        "from sklearn.model_selection import train_test_split\n",
        "x_train,x_test,y_train,y_test=train_test_split(x1,y1,test_size=0.30,random_state=42)\n",
        "\n",
        "# normalizing the features\n",
        "from sklearn.preprocessing import StandardScaler\n",
        "sc_x=StandardScaler()\n",
        "x_train=sc_x.fit_transform(x_train)\n",
        "x_test=sc_x.transform(x_test)"
      ],
      "id": "445efd62",
      "execution_count": 57,
      "outputs": []
    },
    {
      "cell_type": "code",
      "metadata": {
        "colab": {
          "base_uri": "https://localhost:8080/"
        },
        "id": "24afd0f7",
        "outputId": "7469d6d8-146e-4b5f-8a6f-5ae8270b4be3"
      },
      "source": [
        "# Train Classifiers. \n",
        "# Sklearn offer many powerful classification models.\n",
        "# Our data is cleaned so we are ok to try a bunch of models.\n",
        "\n",
        "from sklearn.neighbors import KNeighborsClassifier\n",
        "from sklearn.linear_model import SGDClassifier\n",
        "from sklearn.linear_model import LogisticRegression\n",
        "from sklearn.tree import DecisionTreeClassifier\n",
        "from sklearn.svm import SVC\n",
        "from sklearn.naive_bayes import GaussianNB\n",
        "from xgboost.sklearn import XGBClassifier\n",
        "from sklearn.ensemble import GradientBoostingClassifier\n",
        "from sklearn.ensemble import RandomForestClassifier\n",
        "\n",
        "\n",
        "knn_model = KNeighborsClassifier(n_neighbors=3)\n",
        "knn_model.fit(x_train, y_train)\n",
        "\n",
        "sgd_model = SGDClassifier(random_state=42)\n",
        "sgd_model.fit(x_train, y_train)\n",
        "\n",
        "log_model = LogisticRegression()\n",
        "log_model.fit(x_train, y_train)\n",
        "\n",
        "dt_model = DecisionTreeClassifier()\n",
        "dt_model.fit(x_train, y_train)\n",
        "\n",
        "svc_model = SVC(kernel='linear')\n",
        "svc_model.fit(x_train, y_train)\n",
        "\n",
        "nb_model = GaussianNB()\n",
        "nb_model.fit(x_train, y_train)\n",
        "\n",
        "xgbc_model = XGBClassifier()\n",
        "xgbc_model.fit(x_train, y_train)\n",
        "\n",
        "gb_model = GradientBoostingClassifier()\n",
        "gb_model.fit(x_train, y_train)\n",
        "\n",
        "rf_model = RandomForestClassifier(n_estimators=100)\n",
        "rf_model.fit(x_train, y_train)"
      ],
      "id": "24afd0f7",
      "execution_count": 58,
      "outputs": [
        {
          "output_type": "execute_result",
          "data": {
            "text/plain": [
              "RandomForestClassifier(bootstrap=True, ccp_alpha=0.0, class_weight=None,\n",
              "                       criterion='gini', max_depth=None, max_features='auto',\n",
              "                       max_leaf_nodes=None, max_samples=None,\n",
              "                       min_impurity_decrease=0.0, min_impurity_split=None,\n",
              "                       min_samples_leaf=1, min_samples_split=2,\n",
              "                       min_weight_fraction_leaf=0.0, n_estimators=100,\n",
              "                       n_jobs=None, oob_score=False, random_state=None,\n",
              "                       verbose=0, warm_start=False)"
            ]
          },
          "metadata": {},
          "execution_count": 58
        }
      ]
    },
    {
      "cell_type": "code",
      "metadata": {
        "id": "ab7bcb53"
      },
      "source": [
        "# make predictions\n",
        "\n",
        "y_pred_knn = knn_model.predict(x_test)\n",
        "y_pred_sgd = sgd_model.predict(x_test)\n",
        "y_pred_log = log_model.predict(x_test)\n",
        "\n",
        "y_pred_dt = dt_model.predict(x_test)\n",
        "y_pred_svc = svc_model.predict(x_test)\n",
        "y_pred_nb = nb_model.predict(x_test)\n",
        "\n",
        "y_pred_xgbc = xgbc_model.predict(x_test)\n",
        "y_pred_gb = gb_model.predict(x_test)\n",
        "y_pred_rf = rf_model.predict(x_test)"
      ],
      "id": "ab7bcb53",
      "execution_count": 59,
      "outputs": []
    },
    {
      "cell_type": "code",
      "metadata": {
        "colab": {
          "base_uri": "https://localhost:8080/"
        },
        "id": "11f7c204",
        "outputId": "fe4bf19a-0cc0-40e3-a725-e0e1ae59dc67"
      },
      "source": [
        "# performance measurement\n",
        "\n",
        "from sklearn.metrics import accuracy_score\n",
        "\n",
        "knn_score = accuracy_score(y_test, y_pred_knn)\n",
        "sgd_score = accuracy_score(y_test, y_pred_sgd)\n",
        "log_score = accuracy_score(y_test, y_pred_log)\n",
        "\n",
        "dt_score = accuracy_score(y_test, y_pred_dt)\n",
        "svc_score = accuracy_score(y_test, y_pred_svc)\n",
        "nb_score = accuracy_score(y_test, y_pred_nb)\n",
        "\n",
        "xgbc_score = accuracy_score(y_test, y_pred_xgbc)\n",
        "gb_score = accuracy_score(y_test, y_pred_gb)\n",
        "rf_score = accuracy_score(y_test, y_pred_rf)\n",
        "\n",
        "\n",
        "print(\"Accuracy score (KNN): \", knn_score)\n",
        "print(\"Accuracy score (SGD): \", sgd_score)\n",
        "print(\"Accuracy score (Logistic): \", log_score)\n",
        "\n",
        "print(\"Accuracy score (DT): \", dt_score)\n",
        "print(\"Accuracy score (SVC): \", svc_score)\n",
        "print(\"Accuracy score (NB): \", nb_score)\n",
        "\n",
        "print(\"Accuracy score (XGBC): \", xgbc_score)\n",
        "print(\"Accuracy score (GB): \", gb_score)\n",
        "print(\"Accuracy score (RF): \", rf_score)"
      ],
      "id": "11f7c204",
      "execution_count": 60,
      "outputs": [
        {
          "output_type": "stream",
          "name": "stdout",
          "text": [
            "Accuracy score (KNN):  0.9114037713259503\n",
            "Accuracy score (SGD):  0.7153546842262796\n",
            "Accuracy score (Logistic):  0.7183478000598623\n",
            "Accuracy score (DT):  0.9329542053277462\n",
            "Accuracy score (SVC):  0.7102663873091889\n",
            "Accuracy score (NB):  0.6551930559712661\n",
            "Accuracy score (XGBC):  0.8596228674049686\n",
            "Accuracy score (GB):  0.8659084106554924\n",
            "Accuracy score (RF):  0.9745585154145465\n"
          ]
        }
      ]
    },
    {
      "cell_type": "code",
      "metadata": {
        "colab": {
          "base_uri": "https://localhost:8080/",
          "height": 0
        },
        "id": "b950262b",
        "outputId": "1d6d2a84-21c8-49e8-d281-72ee33018812"
      },
      "source": [
        "# confusion matrix\n",
        "\n",
        "from sklearn.metrics import confusion_matrix\n",
        "from sklearn.metrics import plot_confusion_matrix\n",
        "\n",
        "classifiers = [KNeighborsClassifier(n_neighbors=3),\n",
        "               SGDClassifier(),\n",
        "               LogisticRegression(), \n",
        "               DecisionTreeClassifier(),\n",
        "               SVC(kernel='linear'),\n",
        "               GaussianNB(),\n",
        "               XGBClassifier(),\n",
        "               GradientBoostingClassifier(), \n",
        "               RandomForestClassifier(n_estimators=100)]\n",
        "\n",
        "for cls in classifiers:\n",
        "    cls.fit(x_train, y_train)\n",
        "    \n",
        "fig, axes = plt.subplots(nrows=3, ncols=3, figsize=(15,10))\n",
        "\n",
        "for cls, ax in zip(classifiers, axes.flatten()):\n",
        "    plot_confusion_matrix(cls, \n",
        "                          x_test, \n",
        "                          y_test, \n",
        "                          ax=ax, \n",
        "                          cmap='Blues')\n",
        "    ax.title.set_text(type(cls).__name__)\n",
        "plt.tight_layout()  \n",
        "plt.show()\n",
        "\n",
        "\n"
      ],
      "id": "b950262b",
      "execution_count": 61,
      "outputs": [
        {
          "output_type": "display_data",
          "data": {
            "image/png": "[encoded data removed]",
            "text/plain": [
              "<Figure size 1080x720 with 18 Axes>"
            ]
          },
          "metadata": {
            "needs_background": "light"
          }
        }
      ]
    },
    {
      "cell_type": "code",
      "metadata": {
        "colab": {
          "base_uri": "https://localhost:8080/"
        },
        "id": "9d7ca820",
        "outputId": "5234d327-775a-4267-91d1-dd2a4ef0cd02"
      },
      "source": [
        "# check the Precision, Recall and F1 score to better evaluate the performances of the models\n",
        "\n",
        "from sklearn.metrics import classification_report\n",
        "\n",
        "print('\\033[1m  KNN  \\033[0m')\n",
        "print(classification_report(y_test, y_pred_knn))  # knn classification report\n",
        "print(\"\\n\")\n",
        "\n",
        "print('\\033[1m  SGD  \\033[0m')\n",
        "print(classification_report(y_test, y_pred_sgd))  # sgd classification report\n",
        "print(\"\\n\")\n",
        "\n",
        "print('\\033[1m  Log Regresion  \\033[0m')\n",
        "print(classification_report(y_test, y_pred_log))  # logistic classification report\n",
        "print(\"\\n\")\n",
        "\n",
        "print('\\033[1m  DT  \\033[0m')\n",
        "print(classification_report(y_test, y_pred_dt))  # knn classification report\n",
        "print(\"\\n\")\n",
        "\n",
        "print('\\033[1m  SVC  \\033[0m')\n",
        "print(classification_report(y_test, y_pred_svc))  # knn classification report\n",
        "print(\"\\n\")\n",
        "\n",
        "print('\\033[1m  NB  \\033[0m')\n",
        "print(classification_report(y_test, y_pred_nb))  # knn classification report\n",
        "print(\"\\n\")\n",
        "\n",
        "print('\\033[1m  XGBC  \\033[0m')\n",
        "print(classification_report(y_test, y_pred_xgbc))  # knn classification report\n",
        "print(\"\\n\")\n",
        "\n",
        "print('\\033[1m  GB  \\033[0m')\n",
        "print(classification_report(y_test, y_pred_gb))  # knn classification report\n",
        "print(\"\\n\")\n",
        "\n",
        "print('\\033[1m  RF  \\033[0m')\n",
        "print(classification_report(y_test, y_pred_rf))  # knn classification report\n",
        "print(\"\\n\")"
      ],
      "id": "9d7ca820",
      "execution_count": 62,
      "outputs": [
        {
          "output_type": "stream",
          "name": "stdout",
          "text": [
            "\u001b[1m  KNN  \u001b[0m\n",
            "              precision    recall  f1-score   support\n",
            "\n",
            "           0       0.97      0.84      0.90      1637\n",
            "           1       0.87      0.98      0.92      1704\n",
            "\n",
            "    accuracy                           0.91      3341\n",
            "   macro avg       0.92      0.91      0.91      3341\n",
            "weighted avg       0.92      0.91      0.91      3341\n",
            "\n",
            "\n",
            "\n",
            "\u001b[1m  SGD  \u001b[0m\n",
            "              precision    recall  f1-score   support\n",
            "\n",
            "           0       0.85      0.51      0.64      1637\n",
            "           1       0.66      0.91      0.77      1704\n",
            "\n",
            "    accuracy                           0.72      3341\n",
            "   macro avg       0.75      0.71      0.70      3341\n",
            "weighted avg       0.75      0.72      0.70      3341\n",
            "\n",
            "\n",
            "\n",
            "\u001b[1m  Log Regresion  \u001b[0m\n",
            "              precision    recall  f1-score   support\n",
            "\n",
            "           0       0.84      0.52      0.64      1637\n",
            "           1       0.66      0.91      0.77      1704\n",
            "\n",
            "    accuracy                           0.72      3341\n",
            "   macro avg       0.75      0.71      0.71      3341\n",
            "weighted avg       0.75      0.72      0.71      3341\n",
            "\n",
            "\n",
            "\n",
            "\u001b[1m  DT  \u001b[0m\n",
            "              precision    recall  f1-score   support\n",
            "\n",
            "           0       0.95      0.92      0.93      1637\n",
            "           1       0.92      0.95      0.94      1704\n",
            "\n",
            "    accuracy                           0.93      3341\n",
            "   macro avg       0.93      0.93      0.93      3341\n",
            "weighted avg       0.93      0.93      0.93      3341\n",
            "\n",
            "\n",
            "\n",
            "\u001b[1m  SVC  \u001b[0m\n",
            "              precision    recall  f1-score   support\n",
            "\n",
            "           0       0.85      0.50      0.63      1637\n",
            "           1       0.65      0.92      0.76      1704\n",
            "\n",
            "    accuracy                           0.71      3341\n",
            "   macro avg       0.75      0.71      0.70      3341\n",
            "weighted avg       0.75      0.71      0.70      3341\n",
            "\n",
            "\n",
            "\n",
            "\u001b[1m  NB  \u001b[0m\n",
            "              precision    recall  f1-score   support\n",
            "\n",
            "           0       0.90      0.33      0.49      1637\n",
            "           1       0.60      0.96      0.74      1704\n",
            "\n",
            "    accuracy                           0.66      3341\n",
            "   macro avg       0.75      0.65      0.61      3341\n",
            "weighted avg       0.75      0.66      0.62      3341\n",
            "\n",
            "\n",
            "\n",
            "\u001b[1m  XGBC  \u001b[0m\n",
            "              precision    recall  f1-score   support\n",
            "\n",
            "           0       0.90      0.80      0.85      1637\n",
            "           1       0.83      0.92      0.87      1704\n",
            "\n",
            "    accuracy                           0.86      3341\n",
            "   macro avg       0.87      0.86      0.86      3341\n",
            "weighted avg       0.86      0.86      0.86      3341\n",
            "\n",
            "\n",
            "\n",
            "\u001b[1m  GB  \u001b[0m\n",
            "              precision    recall  f1-score   support\n",
            "\n",
            "           0       0.90      0.82      0.86      1637\n",
            "           1       0.84      0.91      0.87      1704\n",
            "\n",
            "    accuracy                           0.87      3341\n",
            "   macro avg       0.87      0.86      0.87      3341\n",
            "weighted avg       0.87      0.87      0.87      3341\n",
            "\n",
            "\n",
            "\n",
            "\u001b[1m  RF  \u001b[0m\n",
            "              precision    recall  f1-score   support\n",
            "\n",
            "           0       0.98      0.97      0.97      1637\n",
            "           1       0.97      0.98      0.98      1704\n",
            "\n",
            "    accuracy                           0.97      3341\n",
            "   macro avg       0.97      0.97      0.97      3341\n",
            "weighted avg       0.97      0.97      0.97      3341\n",
            "\n",
            "\n",
            "\n"
          ]
        }
      ]
    },
    {
      "cell_type": "markdown",
      "metadata": {
        "id": "00b70f28"
      },
      "source": [
        "<font size=\"4\">\n",
        "Based on the performance summary, several models stand out. They are KNN, DT, XGBC, RF.\n",
        "</font>"
      ],
      "id": "00b70f28"
    },
    {
      "cell_type": "markdown",
      "metadata": {
        "id": "ce17e86a"
      },
      "source": [
        "### 4.6 Feature Importance"
      ],
      "id": "ce17e86a"
    },
    {
      "cell_type": "markdown",
      "metadata": {
        "id": "a61b9f13"
      },
      "source": [
        "<font size=\"4\">\n",
        "Feature importance might be useful to check which feature is more important to predict the target.\n",
        "</font>"
      ],
      "id": "a61b9f13"
    },
    {
      "cell_type": "code",
      "metadata": {
        "colab": {
          "base_uri": "https://localhost:8080/",
          "height": 486
        },
        "id": "e4915aee",
        "outputId": "b9f5e0b8-bdba-4ba4-a946-d9c1f03c8838"
      },
      "source": [
        "# RF model feature importance\n",
        "plt.figure(figsize=(10,8))\n",
        "feat_importances = pd.Series(rf_model.feature_importances_, index=df.columns[df.columns.str.contains('Churn')==False])\n",
        "feat_importances.nlargest(50).plot(kind='barh')\n",
        "plt.show()"
      ],
      "id": "e4915aee",
      "execution_count": 63,
      "outputs": [
        {
          "output_type": "display_data",
          "data": {
            "image/png": "[encoded data removed]",
            "text/plain": [
              "<Figure size 720x576 with 1 Axes>"
            ]
          },
          "metadata": {
            "needs_background": "light"
          }
        }
      ]
    },
    {
      "cell_type": "markdown",
      "metadata": {
        "id": "c2b69ad5"
      },
      "source": [
        "### 4.7 ROC Curve"
      ],
      "id": "c2b69ad5"
    },
    {
      "cell_type": "code",
      "metadata": {
        "colab": {
          "base_uri": "https://localhost:8080/",
          "height": 606
        },
        "id": "01e12413",
        "outputId": "1cfb29f8-4620-4e2a-925e-aa9c7e4aa941"
      },
      "source": [
        "# get the probability distribution\n",
        "probas = rf_model.predict_proba(x_test)\n",
        "\n",
        "# plot\n",
        "plt.figure(dpi=150)\n",
        "plt.hist(probas, bins=20)\n",
        "plt.title('Classification Probabilities')\n",
        "plt.xlabel('Probability')\n",
        "plt.ylabel('# of Instances')\n",
        "plt.xlim([0.5, 1.0])\n",
        "plt.legend(y_test)\n",
        "plt.show()"
      ],
      "id": "01e12413",
      "execution_count": 64,
      "outputs": [
        {
          "output_type": "display_data",
          "data": {
            "image/png": "[encoded data removed]",
            "text/plain": [
              "<Figure size 900x600 with 1 Axes>"
            ]
          },
          "metadata": {
            "needs_background": "light"
          }
        }
      ]
    },
    {
      "cell_type": "code",
      "metadata": {
        "colab": {
          "base_uri": "https://localhost:8080/",
          "height": 606
        },
        "id": "20ff28e4",
        "outputId": "4bffbabe-cc18-460b-c1a9-f3ad9098e08b"
      },
      "source": [
        "# ROC curve\n",
        "\n",
        "from sklearn.metrics import roc_curve, auc\n",
        "\n",
        "# get false and true positive rates\n",
        "fpr, tpr, thresholds = roc_curve(y_test, probas[:,0], pos_label=0)\n",
        "\n",
        "# get area under the curve\n",
        "roc_auc = auc(fpr, tpr)\n",
        "\n",
        "# PLOT ROC curve\n",
        "plt.figure(dpi=150)\n",
        "plt.plot(fpr, tpr, lw=1, color='green', label=f'AUC = {roc_auc:.3f}')\n",
        "plt.title('ROC Curve for RF classifier')\n",
        "plt.xlabel('False Positive Rate')\n",
        "plt.ylabel('True Positive Rate (Recall)')\n",
        "plt.xlim([-0.05, 1.05])\n",
        "plt.ylim([-0.05, 1.05])\n",
        "plt.legend()\n",
        "plt.show()"
      ],
      "id": "20ff28e4",
      "execution_count": 65,
      "outputs": [
        {
          "output_type": "display_data",
          "data": {
            "image/png": "[encoded data removed]",
            "text/plain": [
              "<Figure size 900x600 with 1 Axes>"
            ]
          },
          "metadata": {
            "needs_background": "light"
          }
        }
      ]
    },
    {
      "cell_type": "markdown",
      "metadata": {
        "id": "57d17443"
      },
      "source": [
        "## 5. Conclusion"
      ],
      "id": "57d17443"
    },
    {
      "cell_type": "markdown",
      "metadata": {
        "id": "0ecba25f"
      },
      "source": [
        "<font size=\"4\">\n",
        "\n",
        "We set out to answer the questions: Can we build a model to predict the customer churn and what variables provide us the most information about the prediction? <br>\n",
        "    \n",
        "Given the exploration in this notebook, I conclude that Yes, we can create a model to accurately infer the potential churn of a customer and we have found the totalquarterlyspending, the numbers of transaction per quarter etc could be the most useful measures of determining the customer churn. <br>\n",
        "    \n",
        "The highlights from this work are:<br>\n",
        "1. The payment data is re-processed and eningeered in a way ML models could be applied for prediction.<br>\n",
        "\n",
        "2. RFM model is developed and customer segmentation is established.<br>\n",
        "\n",
        "3. Churn is defined utilizing RFM and extensive feature engineering work completed for better model performance.<br>\n",
        "\n",
        "4. Several ML models (KNN, DT, XGBC, RF) were able to achieve F1 score>0.95, which was significantly better than other models.<br>\n",
        "    \n",
        "5. If provided with data for a new customer, a trained model could accurately infer the potential churn.<br>\n",
        "    \n",
        "    <br>\n",
        "    \n",
        "This report also identified areas for follow-up. There could be a different way to summarize the transaction data (using monthly sales for example) or other feature engineering methods for better prediction.  \n",
        "    \n",
        "    \n",
        "The author also want to thanks Bryan Bischof and Weights and Biases for the dataset, support and opportunity. </font>\n",
        "\n"
      ],
      "id": "0ecba25f"
    },
    {
      "cell_type": "code",
      "metadata": {
        "id": "93f54532"
      },
      "source": [
        "# save the data to csv file\n",
        "df.to_csv('payment1.csv', index=False)"
      ],
      "id": "93f54532",
      "execution_count": 66,
      "outputs": []
    },
    {
      "cell_type": "markdown",
      "metadata": {
        "id": "9516ee24"
      },
      "source": [
        "# Thank you!"
      ],
      "id": "9516ee24"
    },
    {
      "cell_type": "markdown",
      "metadata": {
        "id": "af47ae74"
      },
      "source": [
        "## 6. References"
      ],
      "id": "af47ae74"
    },
    {
      "cell_type": "markdown",
      "metadata": {
        "id": "e1c5fbd8"
      },
      "source": [
        "\n",
        "1. https://searchdatamanagement.techtarget.com/definition/RFM-analysis\n",
        "\n",
        "2. https://towardsdatascience.com/recency-frequency-monetary-model-with-python-and-how-sephora-uses-it-to-optimize-their-google-d6a0707c5f17\n",
        "\n",
        "3. https://towardsdatascience.com/imbalanced-classification-in-python-smote-enn-method-db5db06b8d50\n"
      ],
      "id": "e1c5fbd8"
    },
    {
      "cell_type": "code",
      "metadata": {
        "id": "f3431d70"
      },
      "source": [
        ""
      ],
      "id": "f3431d70",
      "execution_count": 66,
      "outputs": []
    }
  ]
}